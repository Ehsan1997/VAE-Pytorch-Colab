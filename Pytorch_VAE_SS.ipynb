{
  "nbformat": 4,
  "nbformat_minor": 0,
  "metadata": {
    "colab": {
      "name": "Pytorch-VAE-SS",
      "provenance": [],
      "toc_visible": true,
      "mount_file_id": "1TjVoOXopNz20PozQobTpDZE3Bd6VnTmM",
      "authorship_tag": "ABX9TyMKSWzlyhCtgets5ypros6C",
      "include_colab_link": true
    },
    "kernelspec": {
      "name": "python3",
      "display_name": "Python 3"
    },
    "accelerator": "GPU",
    "widgets": {
      "application/vnd.jupyter.widget-state+json": {
        "2617be4a41144e40b8d6353b7cc31d05": {
          "model_module": "@jupyter-widgets/controls",
          "model_name": "HBoxModel",
          "state": {
            "_view_name": "HBoxView",
            "_dom_classes": [],
            "_model_name": "HBoxModel",
            "_view_module": "@jupyter-widgets/controls",
            "_model_module_version": "1.5.0",
            "_view_count": null,
            "_view_module_version": "1.5.0",
            "box_style": "",
            "layout": "IPY_MODEL_a78830cd17e549ada0352565c2aa6c68",
            "_model_module": "@jupyter-widgets/controls",
            "children": [
              "IPY_MODEL_f0042751c0bf475eb987c861e132acdb",
              "IPY_MODEL_c462b2b11e5a423ea879fdf5dff4128a"
            ]
          }
        },
        "a78830cd17e549ada0352565c2aa6c68": {
          "model_module": "@jupyter-widgets/base",
          "model_name": "LayoutModel",
          "state": {
            "_view_name": "LayoutView",
            "grid_template_rows": null,
            "right": null,
            "justify_content": null,
            "_view_module": "@jupyter-widgets/base",
            "overflow": null,
            "_model_module_version": "1.2.0",
            "_view_count": null,
            "flex_flow": null,
            "width": null,
            "min_width": null,
            "border": null,
            "align_items": null,
            "bottom": null,
            "_model_module": "@jupyter-widgets/base",
            "top": null,
            "grid_column": null,
            "overflow_y": null,
            "overflow_x": null,
            "grid_auto_flow": null,
            "grid_area": null,
            "grid_template_columns": null,
            "flex": null,
            "_model_name": "LayoutModel",
            "justify_items": null,
            "grid_row": null,
            "max_height": null,
            "align_content": null,
            "visibility": null,
            "align_self": null,
            "height": null,
            "min_height": null,
            "padding": null,
            "grid_auto_rows": null,
            "grid_gap": null,
            "max_width": null,
            "order": null,
            "_view_module_version": "1.2.0",
            "grid_template_areas": null,
            "object_position": null,
            "object_fit": null,
            "grid_auto_columns": null,
            "margin": null,
            "display": null,
            "left": null
          }
        },
        "f0042751c0bf475eb987c861e132acdb": {
          "model_module": "@jupyter-widgets/controls",
          "model_name": "FloatProgressModel",
          "state": {
            "_view_name": "ProgressView",
            "style": "IPY_MODEL_3fe56e2391d24ff0bce1a1671132e27f",
            "_dom_classes": [],
            "description": "",
            "_model_name": "FloatProgressModel",
            "bar_style": "info",
            "max": 1,
            "_view_module": "@jupyter-widgets/controls",
            "_model_module_version": "1.5.0",
            "value": 1,
            "_view_count": null,
            "_view_module_version": "1.5.0",
            "orientation": "horizontal",
            "min": 0,
            "description_tooltip": null,
            "_model_module": "@jupyter-widgets/controls",
            "layout": "IPY_MODEL_7630b2aefdc142a6b414b0ee7d439024"
          }
        },
        "c462b2b11e5a423ea879fdf5dff4128a": {
          "model_module": "@jupyter-widgets/controls",
          "model_name": "HTMLModel",
          "state": {
            "_view_name": "HTMLView",
            "style": "IPY_MODEL_18ff3219446542059ec4f0321907b947",
            "_dom_classes": [],
            "description": "",
            "_model_name": "HTMLModel",
            "placeholder": "​",
            "_view_module": "@jupyter-widgets/controls",
            "_model_module_version": "1.5.0",
            "value": " 9920512/? [00:20&lt;00:00, 2605469.08it/s]",
            "_view_count": null,
            "_view_module_version": "1.5.0",
            "description_tooltip": null,
            "_model_module": "@jupyter-widgets/controls",
            "layout": "IPY_MODEL_cdaa4da9fff0473885816241f3261b47"
          }
        },
        "3fe56e2391d24ff0bce1a1671132e27f": {
          "model_module": "@jupyter-widgets/controls",
          "model_name": "ProgressStyleModel",
          "state": {
            "_view_name": "StyleView",
            "_model_name": "ProgressStyleModel",
            "description_width": "initial",
            "_view_module": "@jupyter-widgets/base",
            "_model_module_version": "1.5.0",
            "_view_count": null,
            "_view_module_version": "1.2.0",
            "bar_color": null,
            "_model_module": "@jupyter-widgets/controls"
          }
        },
        "7630b2aefdc142a6b414b0ee7d439024": {
          "model_module": "@jupyter-widgets/base",
          "model_name": "LayoutModel",
          "state": {
            "_view_name": "LayoutView",
            "grid_template_rows": null,
            "right": null,
            "justify_content": null,
            "_view_module": "@jupyter-widgets/base",
            "overflow": null,
            "_model_module_version": "1.2.0",
            "_view_count": null,
            "flex_flow": null,
            "width": null,
            "min_width": null,
            "border": null,
            "align_items": null,
            "bottom": null,
            "_model_module": "@jupyter-widgets/base",
            "top": null,
            "grid_column": null,
            "overflow_y": null,
            "overflow_x": null,
            "grid_auto_flow": null,
            "grid_area": null,
            "grid_template_columns": null,
            "flex": null,
            "_model_name": "LayoutModel",
            "justify_items": null,
            "grid_row": null,
            "max_height": null,
            "align_content": null,
            "visibility": null,
            "align_self": null,
            "height": null,
            "min_height": null,
            "padding": null,
            "grid_auto_rows": null,
            "grid_gap": null,
            "max_width": null,
            "order": null,
            "_view_module_version": "1.2.0",
            "grid_template_areas": null,
            "object_position": null,
            "object_fit": null,
            "grid_auto_columns": null,
            "margin": null,
            "display": null,
            "left": null
          }
        },
        "18ff3219446542059ec4f0321907b947": {
          "model_module": "@jupyter-widgets/controls",
          "model_name": "DescriptionStyleModel",
          "state": {
            "_view_name": "StyleView",
            "_model_name": "DescriptionStyleModel",
            "description_width": "",
            "_view_module": "@jupyter-widgets/base",
            "_model_module_version": "1.5.0",
            "_view_count": null,
            "_view_module_version": "1.2.0",
            "_model_module": "@jupyter-widgets/controls"
          }
        },
        "cdaa4da9fff0473885816241f3261b47": {
          "model_module": "@jupyter-widgets/base",
          "model_name": "LayoutModel",
          "state": {
            "_view_name": "LayoutView",
            "grid_template_rows": null,
            "right": null,
            "justify_content": null,
            "_view_module": "@jupyter-widgets/base",
            "overflow": null,
            "_model_module_version": "1.2.0",
            "_view_count": null,
            "flex_flow": null,
            "width": null,
            "min_width": null,
            "border": null,
            "align_items": null,
            "bottom": null,
            "_model_module": "@jupyter-widgets/base",
            "top": null,
            "grid_column": null,
            "overflow_y": null,
            "overflow_x": null,
            "grid_auto_flow": null,
            "grid_area": null,
            "grid_template_columns": null,
            "flex": null,
            "_model_name": "LayoutModel",
            "justify_items": null,
            "grid_row": null,
            "max_height": null,
            "align_content": null,
            "visibility": null,
            "align_self": null,
            "height": null,
            "min_height": null,
            "padding": null,
            "grid_auto_rows": null,
            "grid_gap": null,
            "max_width": null,
            "order": null,
            "_view_module_version": "1.2.0",
            "grid_template_areas": null,
            "object_position": null,
            "object_fit": null,
            "grid_auto_columns": null,
            "margin": null,
            "display": null,
            "left": null
          }
        },
        "3e346f43bb3d479f9abfae47ca4a9a95": {
          "model_module": "@jupyter-widgets/controls",
          "model_name": "HBoxModel",
          "state": {
            "_view_name": "HBoxView",
            "_dom_classes": [],
            "_model_name": "HBoxModel",
            "_view_module": "@jupyter-widgets/controls",
            "_model_module_version": "1.5.0",
            "_view_count": null,
            "_view_module_version": "1.5.0",
            "box_style": "",
            "layout": "IPY_MODEL_eb62d905942641518766e2b8cb31ef14",
            "_model_module": "@jupyter-widgets/controls",
            "children": [
              "IPY_MODEL_c312c04212c44d32a2e67301289e78f6",
              "IPY_MODEL_64d45bfed4b946689b0ed9b27e261ee9"
            ]
          }
        },
        "eb62d905942641518766e2b8cb31ef14": {
          "model_module": "@jupyter-widgets/base",
          "model_name": "LayoutModel",
          "state": {
            "_view_name": "LayoutView",
            "grid_template_rows": null,
            "right": null,
            "justify_content": null,
            "_view_module": "@jupyter-widgets/base",
            "overflow": null,
            "_model_module_version": "1.2.0",
            "_view_count": null,
            "flex_flow": null,
            "width": null,
            "min_width": null,
            "border": null,
            "align_items": null,
            "bottom": null,
            "_model_module": "@jupyter-widgets/base",
            "top": null,
            "grid_column": null,
            "overflow_y": null,
            "overflow_x": null,
            "grid_auto_flow": null,
            "grid_area": null,
            "grid_template_columns": null,
            "flex": null,
            "_model_name": "LayoutModel",
            "justify_items": null,
            "grid_row": null,
            "max_height": null,
            "align_content": null,
            "visibility": null,
            "align_self": null,
            "height": null,
            "min_height": null,
            "padding": null,
            "grid_auto_rows": null,
            "grid_gap": null,
            "max_width": null,
            "order": null,
            "_view_module_version": "1.2.0",
            "grid_template_areas": null,
            "object_position": null,
            "object_fit": null,
            "grid_auto_columns": null,
            "margin": null,
            "display": null,
            "left": null
          }
        },
        "c312c04212c44d32a2e67301289e78f6": {
          "model_module": "@jupyter-widgets/controls",
          "model_name": "FloatProgressModel",
          "state": {
            "_view_name": "ProgressView",
            "style": "IPY_MODEL_42c5b20b2d184c02bb67de08272f1aef",
            "_dom_classes": [],
            "description": "",
            "_model_name": "FloatProgressModel",
            "bar_style": "success",
            "max": 1,
            "_view_module": "@jupyter-widgets/controls",
            "_model_module_version": "1.5.0",
            "value": 1,
            "_view_count": null,
            "_view_module_version": "1.5.0",
            "orientation": "horizontal",
            "min": 0,
            "description_tooltip": null,
            "_model_module": "@jupyter-widgets/controls",
            "layout": "IPY_MODEL_190a13d9c397429a8e06c4b69f77cfef"
          }
        },
        "64d45bfed4b946689b0ed9b27e261ee9": {
          "model_module": "@jupyter-widgets/controls",
          "model_name": "HTMLModel",
          "state": {
            "_view_name": "HTMLView",
            "style": "IPY_MODEL_e7dc39864d6649c097f47550486f2170",
            "_dom_classes": [],
            "description": "",
            "_model_name": "HTMLModel",
            "placeholder": "​",
            "_view_module": "@jupyter-widgets/controls",
            "_model_module_version": "1.5.0",
            "value": " 32768/? [00:00&lt;00:00, 48037.14it/s]",
            "_view_count": null,
            "_view_module_version": "1.5.0",
            "description_tooltip": null,
            "_model_module": "@jupyter-widgets/controls",
            "layout": "IPY_MODEL_689eac64e5764dcb99adbcc86992df9d"
          }
        },
        "42c5b20b2d184c02bb67de08272f1aef": {
          "model_module": "@jupyter-widgets/controls",
          "model_name": "ProgressStyleModel",
          "state": {
            "_view_name": "StyleView",
            "_model_name": "ProgressStyleModel",
            "description_width": "initial",
            "_view_module": "@jupyter-widgets/base",
            "_model_module_version": "1.5.0",
            "_view_count": null,
            "_view_module_version": "1.2.0",
            "bar_color": null,
            "_model_module": "@jupyter-widgets/controls"
          }
        },
        "190a13d9c397429a8e06c4b69f77cfef": {
          "model_module": "@jupyter-widgets/base",
          "model_name": "LayoutModel",
          "state": {
            "_view_name": "LayoutView",
            "grid_template_rows": null,
            "right": null,
            "justify_content": null,
            "_view_module": "@jupyter-widgets/base",
            "overflow": null,
            "_model_module_version": "1.2.0",
            "_view_count": null,
            "flex_flow": null,
            "width": null,
            "min_width": null,
            "border": null,
            "align_items": null,
            "bottom": null,
            "_model_module": "@jupyter-widgets/base",
            "top": null,
            "grid_column": null,
            "overflow_y": null,
            "overflow_x": null,
            "grid_auto_flow": null,
            "grid_area": null,
            "grid_template_columns": null,
            "flex": null,
            "_model_name": "LayoutModel",
            "justify_items": null,
            "grid_row": null,
            "max_height": null,
            "align_content": null,
            "visibility": null,
            "align_self": null,
            "height": null,
            "min_height": null,
            "padding": null,
            "grid_auto_rows": null,
            "grid_gap": null,
            "max_width": null,
            "order": null,
            "_view_module_version": "1.2.0",
            "grid_template_areas": null,
            "object_position": null,
            "object_fit": null,
            "grid_auto_columns": null,
            "margin": null,
            "display": null,
            "left": null
          }
        },
        "e7dc39864d6649c097f47550486f2170": {
          "model_module": "@jupyter-widgets/controls",
          "model_name": "DescriptionStyleModel",
          "state": {
            "_view_name": "StyleView",
            "_model_name": "DescriptionStyleModel",
            "description_width": "",
            "_view_module": "@jupyter-widgets/base",
            "_model_module_version": "1.5.0",
            "_view_count": null,
            "_view_module_version": "1.2.0",
            "_model_module": "@jupyter-widgets/controls"
          }
        },
        "689eac64e5764dcb99adbcc86992df9d": {
          "model_module": "@jupyter-widgets/base",
          "model_name": "LayoutModel",
          "state": {
            "_view_name": "LayoutView",
            "grid_template_rows": null,
            "right": null,
            "justify_content": null,
            "_view_module": "@jupyter-widgets/base",
            "overflow": null,
            "_model_module_version": "1.2.0",
            "_view_count": null,
            "flex_flow": null,
            "width": null,
            "min_width": null,
            "border": null,
            "align_items": null,
            "bottom": null,
            "_model_module": "@jupyter-widgets/base",
            "top": null,
            "grid_column": null,
            "overflow_y": null,
            "overflow_x": null,
            "grid_auto_flow": null,
            "grid_area": null,
            "grid_template_columns": null,
            "flex": null,
            "_model_name": "LayoutModel",
            "justify_items": null,
            "grid_row": null,
            "max_height": null,
            "align_content": null,
            "visibility": null,
            "align_self": null,
            "height": null,
            "min_height": null,
            "padding": null,
            "grid_auto_rows": null,
            "grid_gap": null,
            "max_width": null,
            "order": null,
            "_view_module_version": "1.2.0",
            "grid_template_areas": null,
            "object_position": null,
            "object_fit": null,
            "grid_auto_columns": null,
            "margin": null,
            "display": null,
            "left": null
          }
        },
        "211bd8c49fe24a73b8910c91f535d363": {
          "model_module": "@jupyter-widgets/controls",
          "model_name": "HBoxModel",
          "state": {
            "_view_name": "HBoxView",
            "_dom_classes": [],
            "_model_name": "HBoxModel",
            "_view_module": "@jupyter-widgets/controls",
            "_model_module_version": "1.5.0",
            "_view_count": null,
            "_view_module_version": "1.5.0",
            "box_style": "",
            "layout": "IPY_MODEL_848e5ec4ab5648cb914c6d4e883d4ed7",
            "_model_module": "@jupyter-widgets/controls",
            "children": [
              "IPY_MODEL_da96b2e3fcea4e469f33cbc81cd77d92",
              "IPY_MODEL_87e3a69ab3e44d789ac5464ecb7bf350"
            ]
          }
        },
        "848e5ec4ab5648cb914c6d4e883d4ed7": {
          "model_module": "@jupyter-widgets/base",
          "model_name": "LayoutModel",
          "state": {
            "_view_name": "LayoutView",
            "grid_template_rows": null,
            "right": null,
            "justify_content": null,
            "_view_module": "@jupyter-widgets/base",
            "overflow": null,
            "_model_module_version": "1.2.0",
            "_view_count": null,
            "flex_flow": null,
            "width": null,
            "min_width": null,
            "border": null,
            "align_items": null,
            "bottom": null,
            "_model_module": "@jupyter-widgets/base",
            "top": null,
            "grid_column": null,
            "overflow_y": null,
            "overflow_x": null,
            "grid_auto_flow": null,
            "grid_area": null,
            "grid_template_columns": null,
            "flex": null,
            "_model_name": "LayoutModel",
            "justify_items": null,
            "grid_row": null,
            "max_height": null,
            "align_content": null,
            "visibility": null,
            "align_self": null,
            "height": null,
            "min_height": null,
            "padding": null,
            "grid_auto_rows": null,
            "grid_gap": null,
            "max_width": null,
            "order": null,
            "_view_module_version": "1.2.0",
            "grid_template_areas": null,
            "object_position": null,
            "object_fit": null,
            "grid_auto_columns": null,
            "margin": null,
            "display": null,
            "left": null
          }
        },
        "da96b2e3fcea4e469f33cbc81cd77d92": {
          "model_module": "@jupyter-widgets/controls",
          "model_name": "FloatProgressModel",
          "state": {
            "_view_name": "ProgressView",
            "style": "IPY_MODEL_6d3120e2aaa64a36ad5e86a7136825fa",
            "_dom_classes": [],
            "description": "",
            "_model_name": "FloatProgressModel",
            "bar_style": "info",
            "max": 1,
            "_view_module": "@jupyter-widgets/controls",
            "_model_module_version": "1.5.0",
            "value": 1,
            "_view_count": null,
            "_view_module_version": "1.5.0",
            "orientation": "horizontal",
            "min": 0,
            "description_tooltip": null,
            "_model_module": "@jupyter-widgets/controls",
            "layout": "IPY_MODEL_04c1a48f879241b48d98c5db01d0f5cd"
          }
        },
        "87e3a69ab3e44d789ac5464ecb7bf350": {
          "model_module": "@jupyter-widgets/controls",
          "model_name": "HTMLModel",
          "state": {
            "_view_name": "HTMLView",
            "style": "IPY_MODEL_83a142febc904f6bba15f2855e3cd23f",
            "_dom_classes": [],
            "description": "",
            "_model_name": "HTMLModel",
            "placeholder": "​",
            "_view_module": "@jupyter-widgets/controls",
            "_model_module_version": "1.5.0",
            "value": " 1654784/? [00:16&lt;00:00, 300038.27it/s]",
            "_view_count": null,
            "_view_module_version": "1.5.0",
            "description_tooltip": null,
            "_model_module": "@jupyter-widgets/controls",
            "layout": "IPY_MODEL_2bc31ca738df48f8b4c086c635c9c50a"
          }
        },
        "6d3120e2aaa64a36ad5e86a7136825fa": {
          "model_module": "@jupyter-widgets/controls",
          "model_name": "ProgressStyleModel",
          "state": {
            "_view_name": "StyleView",
            "_model_name": "ProgressStyleModel",
            "description_width": "initial",
            "_view_module": "@jupyter-widgets/base",
            "_model_module_version": "1.5.0",
            "_view_count": null,
            "_view_module_version": "1.2.0",
            "bar_color": null,
            "_model_module": "@jupyter-widgets/controls"
          }
        },
        "04c1a48f879241b48d98c5db01d0f5cd": {
          "model_module": "@jupyter-widgets/base",
          "model_name": "LayoutModel",
          "state": {
            "_view_name": "LayoutView",
            "grid_template_rows": null,
            "right": null,
            "justify_content": null,
            "_view_module": "@jupyter-widgets/base",
            "overflow": null,
            "_model_module_version": "1.2.0",
            "_view_count": null,
            "flex_flow": null,
            "width": null,
            "min_width": null,
            "border": null,
            "align_items": null,
            "bottom": null,
            "_model_module": "@jupyter-widgets/base",
            "top": null,
            "grid_column": null,
            "overflow_y": null,
            "overflow_x": null,
            "grid_auto_flow": null,
            "grid_area": null,
            "grid_template_columns": null,
            "flex": null,
            "_model_name": "LayoutModel",
            "justify_items": null,
            "grid_row": null,
            "max_height": null,
            "align_content": null,
            "visibility": null,
            "align_self": null,
            "height": null,
            "min_height": null,
            "padding": null,
            "grid_auto_rows": null,
            "grid_gap": null,
            "max_width": null,
            "order": null,
            "_view_module_version": "1.2.0",
            "grid_template_areas": null,
            "object_position": null,
            "object_fit": null,
            "grid_auto_columns": null,
            "margin": null,
            "display": null,
            "left": null
          }
        },
        "83a142febc904f6bba15f2855e3cd23f": {
          "model_module": "@jupyter-widgets/controls",
          "model_name": "DescriptionStyleModel",
          "state": {
            "_view_name": "StyleView",
            "_model_name": "DescriptionStyleModel",
            "description_width": "",
            "_view_module": "@jupyter-widgets/base",
            "_model_module_version": "1.5.0",
            "_view_count": null,
            "_view_module_version": "1.2.0",
            "_model_module": "@jupyter-widgets/controls"
          }
        },
        "2bc31ca738df48f8b4c086c635c9c50a": {
          "model_module": "@jupyter-widgets/base",
          "model_name": "LayoutModel",
          "state": {
            "_view_name": "LayoutView",
            "grid_template_rows": null,
            "right": null,
            "justify_content": null,
            "_view_module": "@jupyter-widgets/base",
            "overflow": null,
            "_model_module_version": "1.2.0",
            "_view_count": null,
            "flex_flow": null,
            "width": null,
            "min_width": null,
            "border": null,
            "align_items": null,
            "bottom": null,
            "_model_module": "@jupyter-widgets/base",
            "top": null,
            "grid_column": null,
            "overflow_y": null,
            "overflow_x": null,
            "grid_auto_flow": null,
            "grid_area": null,
            "grid_template_columns": null,
            "flex": null,
            "_model_name": "LayoutModel",
            "justify_items": null,
            "grid_row": null,
            "max_height": null,
            "align_content": null,
            "visibility": null,
            "align_self": null,
            "height": null,
            "min_height": null,
            "padding": null,
            "grid_auto_rows": null,
            "grid_gap": null,
            "max_width": null,
            "order": null,
            "_view_module_version": "1.2.0",
            "grid_template_areas": null,
            "object_position": null,
            "object_fit": null,
            "grid_auto_columns": null,
            "margin": null,
            "display": null,
            "left": null
          }
        },
        "f33ae4bd71414f0caeb6f4185bdb0f36": {
          "model_module": "@jupyter-widgets/controls",
          "model_name": "HBoxModel",
          "state": {
            "_view_name": "HBoxView",
            "_dom_classes": [],
            "_model_name": "HBoxModel",
            "_view_module": "@jupyter-widgets/controls",
            "_model_module_version": "1.5.0",
            "_view_count": null,
            "_view_module_version": "1.5.0",
            "box_style": "",
            "layout": "IPY_MODEL_b2e9e36d85aa4bcab49fb2b0796b1c03",
            "_model_module": "@jupyter-widgets/controls",
            "children": [
              "IPY_MODEL_24e31089ce2e4f7ea7842e1367b95dfb",
              "IPY_MODEL_52910725b4a24175accc805769c9111a"
            ]
          }
        },
        "b2e9e36d85aa4bcab49fb2b0796b1c03": {
          "model_module": "@jupyter-widgets/base",
          "model_name": "LayoutModel",
          "state": {
            "_view_name": "LayoutView",
            "grid_template_rows": null,
            "right": null,
            "justify_content": null,
            "_view_module": "@jupyter-widgets/base",
            "overflow": null,
            "_model_module_version": "1.2.0",
            "_view_count": null,
            "flex_flow": null,
            "width": null,
            "min_width": null,
            "border": null,
            "align_items": null,
            "bottom": null,
            "_model_module": "@jupyter-widgets/base",
            "top": null,
            "grid_column": null,
            "overflow_y": null,
            "overflow_x": null,
            "grid_auto_flow": null,
            "grid_area": null,
            "grid_template_columns": null,
            "flex": null,
            "_model_name": "LayoutModel",
            "justify_items": null,
            "grid_row": null,
            "max_height": null,
            "align_content": null,
            "visibility": null,
            "align_self": null,
            "height": null,
            "min_height": null,
            "padding": null,
            "grid_auto_rows": null,
            "grid_gap": null,
            "max_width": null,
            "order": null,
            "_view_module_version": "1.2.0",
            "grid_template_areas": null,
            "object_position": null,
            "object_fit": null,
            "grid_auto_columns": null,
            "margin": null,
            "display": null,
            "left": null
          }
        },
        "24e31089ce2e4f7ea7842e1367b95dfb": {
          "model_module": "@jupyter-widgets/controls",
          "model_name": "FloatProgressModel",
          "state": {
            "_view_name": "ProgressView",
            "style": "IPY_MODEL_04837f1b8ff34c1a9481891d69b35214",
            "_dom_classes": [],
            "description": "",
            "_model_name": "FloatProgressModel",
            "bar_style": "success",
            "max": 1,
            "_view_module": "@jupyter-widgets/controls",
            "_model_module_version": "1.5.0",
            "value": 1,
            "_view_count": null,
            "_view_module_version": "1.5.0",
            "orientation": "horizontal",
            "min": 0,
            "description_tooltip": null,
            "_model_module": "@jupyter-widgets/controls",
            "layout": "IPY_MODEL_5a4ef1a3a5b24189b00dee99893aed0c"
          }
        },
        "52910725b4a24175accc805769c9111a": {
          "model_module": "@jupyter-widgets/controls",
          "model_name": "HTMLModel",
          "state": {
            "_view_name": "HTMLView",
            "style": "IPY_MODEL_714b2999fdb344a2b294a5f53351376a",
            "_dom_classes": [],
            "description": "",
            "_model_name": "HTMLModel",
            "placeholder": "​",
            "_view_module": "@jupyter-widgets/controls",
            "_model_module_version": "1.5.0",
            "value": " 8192/? [00:00&lt;00:00, 13273.67it/s]",
            "_view_count": null,
            "_view_module_version": "1.5.0",
            "description_tooltip": null,
            "_model_module": "@jupyter-widgets/controls",
            "layout": "IPY_MODEL_d0803cd793fc4d49adae47006fa5171f"
          }
        },
        "04837f1b8ff34c1a9481891d69b35214": {
          "model_module": "@jupyter-widgets/controls",
          "model_name": "ProgressStyleModel",
          "state": {
            "_view_name": "StyleView",
            "_model_name": "ProgressStyleModel",
            "description_width": "initial",
            "_view_module": "@jupyter-widgets/base",
            "_model_module_version": "1.5.0",
            "_view_count": null,
            "_view_module_version": "1.2.0",
            "bar_color": null,
            "_model_module": "@jupyter-widgets/controls"
          }
        },
        "5a4ef1a3a5b24189b00dee99893aed0c": {
          "model_module": "@jupyter-widgets/base",
          "model_name": "LayoutModel",
          "state": {
            "_view_name": "LayoutView",
            "grid_template_rows": null,
            "right": null,
            "justify_content": null,
            "_view_module": "@jupyter-widgets/base",
            "overflow": null,
            "_model_module_version": "1.2.0",
            "_view_count": null,
            "flex_flow": null,
            "width": null,
            "min_width": null,
            "border": null,
            "align_items": null,
            "bottom": null,
            "_model_module": "@jupyter-widgets/base",
            "top": null,
            "grid_column": null,
            "overflow_y": null,
            "overflow_x": null,
            "grid_auto_flow": null,
            "grid_area": null,
            "grid_template_columns": null,
            "flex": null,
            "_model_name": "LayoutModel",
            "justify_items": null,
            "grid_row": null,
            "max_height": null,
            "align_content": null,
            "visibility": null,
            "align_self": null,
            "height": null,
            "min_height": null,
            "padding": null,
            "grid_auto_rows": null,
            "grid_gap": null,
            "max_width": null,
            "order": null,
            "_view_module_version": "1.2.0",
            "grid_template_areas": null,
            "object_position": null,
            "object_fit": null,
            "grid_auto_columns": null,
            "margin": null,
            "display": null,
            "left": null
          }
        },
        "714b2999fdb344a2b294a5f53351376a": {
          "model_module": "@jupyter-widgets/controls",
          "model_name": "DescriptionStyleModel",
          "state": {
            "_view_name": "StyleView",
            "_model_name": "DescriptionStyleModel",
            "description_width": "",
            "_view_module": "@jupyter-widgets/base",
            "_model_module_version": "1.5.0",
            "_view_count": null,
            "_view_module_version": "1.2.0",
            "_model_module": "@jupyter-widgets/controls"
          }
        },
        "d0803cd793fc4d49adae47006fa5171f": {
          "model_module": "@jupyter-widgets/base",
          "model_name": "LayoutModel",
          "state": {
            "_view_name": "LayoutView",
            "grid_template_rows": null,
            "right": null,
            "justify_content": null,
            "_view_module": "@jupyter-widgets/base",
            "overflow": null,
            "_model_module_version": "1.2.0",
            "_view_count": null,
            "flex_flow": null,
            "width": null,
            "min_width": null,
            "border": null,
            "align_items": null,
            "bottom": null,
            "_model_module": "@jupyter-widgets/base",
            "top": null,
            "grid_column": null,
            "overflow_y": null,
            "overflow_x": null,
            "grid_auto_flow": null,
            "grid_area": null,
            "grid_template_columns": null,
            "flex": null,
            "_model_name": "LayoutModel",
            "justify_items": null,
            "grid_row": null,
            "max_height": null,
            "align_content": null,
            "visibility": null,
            "align_self": null,
            "height": null,
            "min_height": null,
            "padding": null,
            "grid_auto_rows": null,
            "grid_gap": null,
            "max_width": null,
            "order": null,
            "_view_module_version": "1.2.0",
            "grid_template_areas": null,
            "object_position": null,
            "object_fit": null,
            "grid_auto_columns": null,
            "margin": null,
            "display": null,
            "left": null
          }
        }
      }
    }
  },
  "cells": [
    {
      "cell_type": "markdown",
      "metadata": {
        "id": "view-in-github",
        "colab_type": "text"
      },
      "source": [
        "<a href=\"https://colab.research.google.com/github/Ehsan1997/VAE-Pytorch-Colab/blob/master/Pytorch_VAE_SS.ipynb\" target=\"_parent\"><img src=\"https://colab.research.google.com/assets/colab-badge.svg\" alt=\"Open In Colab\"/></a>"
      ]
    },
    {
      "cell_type": "markdown",
      "metadata": {
        "id": "19NdRm3PApkJ",
        "colab_type": "text"
      },
      "source": [
        "### Libraries"
      ]
    },
    {
      "cell_type": "code",
      "metadata": {
        "id": "4J-x1v9_3850",
        "colab_type": "code",
        "colab": {}
      },
      "source": [
        "import torch\n",
        "import torchvision\n",
        "import numpy as np\n",
        "import tqdm\n",
        "import matplotlib.pyplot as plt"
      ],
      "execution_count": 1,
      "outputs": []
    },
    {
      "cell_type": "markdown",
      "metadata": {
        "id": "ZHBdv-nvA2-K",
        "colab_type": "text"
      },
      "source": [
        "### Device Handling"
      ]
    },
    {
      "cell_type": "code",
      "metadata": {
        "id": "o5Ta7J4J6r6K",
        "colab_type": "code",
        "colab": {}
      },
      "source": [
        "device = torch.device(\"cuda\" if torch.cuda.is_available() else \"cpu\")"
      ],
      "execution_count": 2,
      "outputs": []
    },
    {
      "cell_type": "markdown",
      "metadata": {
        "id": "L-rrmlzHTKJo",
        "colab_type": "text"
      },
      "source": [
        "### Reproducability"
      ]
    },
    {
      "cell_type": "code",
      "metadata": {
        "id": "3c4kUJvtTOAp",
        "colab_type": "code",
        "colab": {}
      },
      "source": [
        "seed = 0\n",
        "torch.manual_seed(seed)\n",
        "if torch.cuda.is_available():\n",
        "  torch.backends.cudnn.deterministic = True\n",
        "  torch.backends.cudnn.benchmark = False\n",
        "np.random.seed(seed)"
      ],
      "execution_count": 3,
      "outputs": []
    },
    {
      "cell_type": "markdown",
      "metadata": {
        "id": "dIiZlROeKnsP",
        "colab_type": "text"
      },
      "source": [
        "### Configuration Variables"
      ]
    },
    {
      "cell_type": "code",
      "metadata": {
        "id": "pMKx0PYvKmci",
        "colab_type": "code",
        "colab": {}
      },
      "source": [
        "batch_size = 64\n",
        "# Beta value for disentangled VAE\n",
        "beta = 1\n",
        "# Number of epochs\n",
        "num_epoch = 10\n",
        "# Latent Dimension\n",
        "latent_dim = 16\n",
        "# Image Dimensions\n",
        "im_w, im_h = 28, 28"
      ],
      "execution_count": 4,
      "outputs": []
    },
    {
      "cell_type": "markdown",
      "metadata": {
        "id": "fhibIw4VAv8s",
        "colab_type": "text"
      },
      "source": [
        "### Utils"
      ]
    },
    {
      "cell_type": "code",
      "metadata": {
        "id": "-p8poa1s9LnE",
        "colab_type": "code",
        "colab": {}
      },
      "source": [
        "def get_preloaded_dataset(dataset_class, transform,\n",
        "                          batch_size, test_transform=None, shuffle=True):\n",
        "  \"\"\"\n",
        "  Load the preloaded dataset available with pytorch.\n",
        "  \n",
        "  Args:\n",
        "  dataset_class -> class of the preloaded dataset\n",
        "  transform -> Composed Transforms to apply to the image\n",
        "  batch_size -> Number of images per batch\n",
        "  test_transform -> Different Transforms for test dataset,\n",
        "                  if None, transform is used.\n",
        "  shuffle -> Shuffle training data after each epoch or not.\n",
        "\n",
        "  Returns:\n",
        "  Train and test dataloaders\n",
        "  \"\"\"\n",
        "  # If test_transform not specified, used transform\n",
        "  if not test_transform:\n",
        "    test_transform = transform\n",
        "  train_dataset = dataset_class('data', download=True,\n",
        "                                transform=transform)\n",
        "  test_dataset = dataset_class('data', download=True,\n",
        "                               transform=test_transform)\n",
        "  train_loader = torch.utils.data.DataLoader(train_dataset, \n",
        "                                             batch_size=batch_size,\n",
        "                                             shuffle=True)\n",
        "  test_loader = torch.utils.data.DataLoader(test_dataset, batch_size=batch_size)\n",
        "  \n",
        "  return train_loader, test_loader"
      ],
      "execution_count": 5,
      "outputs": []
    },
    {
      "cell_type": "code",
      "metadata": {
        "id": "rcjHaJ0sZY2x",
        "colab_type": "code",
        "colab": {}
      },
      "source": [
        "def show_image_batch(img_batch):\n",
        "  n_col = 8\n",
        "  for i in range(0, img_batch.shape[0], n_col):\n",
        "    imgs = img_batch[i:i+n_col]\n",
        "    _, axs = plt.subplots(1, imgs.shape[0], figsize=(12, 12))\n",
        "    axs = axs.flatten()\n",
        "    for img, ax in zip(imgs, axs):\n",
        "      ax.imshow(img, cmap='gray')\n",
        "      ax.set_axis_off()\n",
        "    plt.show()"
      ],
      "execution_count": 6,
      "outputs": []
    },
    {
      "cell_type": "code",
      "metadata": {
        "id": "wb41uscGHMts",
        "colab_type": "code",
        "colab": {}
      },
      "source": [
        "def tensor_to_image(image_tensor):\n",
        "  img = image_tensor[0].detach().cpu().numpy()\n",
        "  img = img.transpose(0,2,3,1)\n",
        "  img = np.squeeze(img, -1)\n",
        "\n",
        "  return img"
      ],
      "execution_count": 7,
      "outputs": []
    },
    {
      "cell_type": "markdown",
      "metadata": {
        "id": "VAIGZVPzAxWR",
        "colab_type": "text"
      },
      "source": [
        "### Data Loading"
      ]
    },
    {
      "cell_type": "code",
      "metadata": {
        "id": "IxSvYm8E4ouV",
        "colab_type": "code",
        "colab": {
          "base_uri": "https://localhost:8080/",
          "height": 373,
          "referenced_widgets": [
            "2617be4a41144e40b8d6353b7cc31d05",
            "a78830cd17e549ada0352565c2aa6c68",
            "f0042751c0bf475eb987c861e132acdb",
            "c462b2b11e5a423ea879fdf5dff4128a",
            "3fe56e2391d24ff0bce1a1671132e27f",
            "7630b2aefdc142a6b414b0ee7d439024",
            "18ff3219446542059ec4f0321907b947",
            "cdaa4da9fff0473885816241f3261b47",
            "3e346f43bb3d479f9abfae47ca4a9a95",
            "eb62d905942641518766e2b8cb31ef14",
            "c312c04212c44d32a2e67301289e78f6",
            "64d45bfed4b946689b0ed9b27e261ee9",
            "42c5b20b2d184c02bb67de08272f1aef",
            "190a13d9c397429a8e06c4b69f77cfef",
            "e7dc39864d6649c097f47550486f2170",
            "689eac64e5764dcb99adbcc86992df9d",
            "211bd8c49fe24a73b8910c91f535d363",
            "848e5ec4ab5648cb914c6d4e883d4ed7",
            "da96b2e3fcea4e469f33cbc81cd77d92",
            "87e3a69ab3e44d789ac5464ecb7bf350",
            "6d3120e2aaa64a36ad5e86a7136825fa",
            "04c1a48f879241b48d98c5db01d0f5cd",
            "83a142febc904f6bba15f2855e3cd23f",
            "2bc31ca738df48f8b4c086c635c9c50a",
            "f33ae4bd71414f0caeb6f4185bdb0f36",
            "b2e9e36d85aa4bcab49fb2b0796b1c03",
            "24e31089ce2e4f7ea7842e1367b95dfb",
            "52910725b4a24175accc805769c9111a",
            "04837f1b8ff34c1a9481891d69b35214",
            "5a4ef1a3a5b24189b00dee99893aed0c",
            "714b2999fdb344a2b294a5f53351376a",
            "d0803cd793fc4d49adae47006fa5171f"
          ]
        },
        "outputId": "e1e30b31-a5be-40be-ce96-fa1dc361c74b"
      },
      "source": [
        "transform = torchvision.transforms.Compose([\n",
        "                                             torchvision.transforms.ToTensor()\n",
        "                                             ])\n",
        "train_loader, test_loader = get_preloaded_dataset(torchvision.datasets.MNIST,\n",
        "                                                  transform, batch_size=batch_size)"
      ],
      "execution_count": 8,
      "outputs": [
        {
          "output_type": "stream",
          "text": [
            "Downloading http://yann.lecun.com/exdb/mnist/train-images-idx3-ubyte.gz to data/MNIST/raw/train-images-idx3-ubyte.gz\n"
          ],
          "name": "stdout"
        },
        {
          "output_type": "display_data",
          "data": {
            "application/vnd.jupyter.widget-view+json": {
              "model_id": "2617be4a41144e40b8d6353b7cc31d05",
              "version_minor": 0,
              "version_major": 2
            },
            "text/plain": [
              "HBox(children=(FloatProgress(value=1.0, bar_style='info', max=1.0), HTML(value='')))"
            ]
          },
          "metadata": {
            "tags": []
          }
        },
        {
          "output_type": "stream",
          "text": [
            "Extracting data/MNIST/raw/train-images-idx3-ubyte.gz to data/MNIST/raw\n",
            "Downloading http://yann.lecun.com/exdb/mnist/train-labels-idx1-ubyte.gz to data/MNIST/raw/train-labels-idx1-ubyte.gz\n"
          ],
          "name": "stdout"
        },
        {
          "output_type": "display_data",
          "data": {
            "application/vnd.jupyter.widget-view+json": {
              "model_id": "3e346f43bb3d479f9abfae47ca4a9a95",
              "version_minor": 0,
              "version_major": 2
            },
            "text/plain": [
              "HBox(children=(FloatProgress(value=1.0, bar_style='info', max=1.0), HTML(value='')))"
            ]
          },
          "metadata": {
            "tags": []
          }
        },
        {
          "output_type": "stream",
          "text": [
            "Extracting data/MNIST/raw/train-labels-idx1-ubyte.gz to data/MNIST/raw\n",
            "Downloading http://yann.lecun.com/exdb/mnist/t10k-images-idx3-ubyte.gz to data/MNIST/raw/t10k-images-idx3-ubyte.gz\n",
            "\n"
          ],
          "name": "stdout"
        },
        {
          "output_type": "display_data",
          "data": {
            "application/vnd.jupyter.widget-view+json": {
              "model_id": "211bd8c49fe24a73b8910c91f535d363",
              "version_minor": 0,
              "version_major": 2
            },
            "text/plain": [
              "HBox(children=(FloatProgress(value=1.0, bar_style='info', max=1.0), HTML(value='')))"
            ]
          },
          "metadata": {
            "tags": []
          }
        },
        {
          "output_type": "stream",
          "text": [
            "Extracting data/MNIST/raw/t10k-images-idx3-ubyte.gz to data/MNIST/raw\n",
            "Downloading http://yann.lecun.com/exdb/mnist/t10k-labels-idx1-ubyte.gz to data/MNIST/raw/t10k-labels-idx1-ubyte.gz\n"
          ],
          "name": "stdout"
        },
        {
          "output_type": "display_data",
          "data": {
            "application/vnd.jupyter.widget-view+json": {
              "model_id": "f33ae4bd71414f0caeb6f4185bdb0f36",
              "version_minor": 0,
              "version_major": 2
            },
            "text/plain": [
              "HBox(children=(FloatProgress(value=1.0, bar_style='info', max=1.0), HTML(value='')))"
            ]
          },
          "metadata": {
            "tags": []
          }
        },
        {
          "output_type": "stream",
          "text": [
            "Extracting data/MNIST/raw/t10k-labels-idx1-ubyte.gz to data/MNIST/raw\n",
            "Processing...\n",
            "Done!\n"
          ],
          "name": "stdout"
        },
        {
          "output_type": "stream",
          "text": [
            "/pytorch/torch/csrc/utils/tensor_numpy.cpp:141: UserWarning: The given NumPy array is not writeable, and PyTorch does not support non-writeable tensors. This means you can write to the underlying (supposedly non-writeable) NumPy array using the tensor. You may want to copy the array to protect its data or make it writeable before converting it to a tensor. This type of warning will be suppressed for the rest of this program.\n"
          ],
          "name": "stderr"
        }
      ]
    },
    {
      "cell_type": "markdown",
      "metadata": {
        "id": "eTTD1iYpBUpG",
        "colab_type": "text"
      },
      "source": [
        "### Neural Network Definition"
      ]
    },
    {
      "cell_type": "code",
      "metadata": {
        "id": "lLyznWxGBHfM",
        "colab_type": "code",
        "colab": {
          "base_uri": "https://localhost:8080/",
          "height": 34
        },
        "outputId": "2a7aa675-edf6-46c6-b707-cb73990e407a"
      },
      "source": [
        "class Encoder(torch.nn.Module):\n",
        "  \"\"\"\n",
        "  Encoder for the variational Encoder\n",
        "  \"\"\"\n",
        "  def __init__(self, in_channels=1, hidden_dims=16):\n",
        "    super().__init__()\n",
        "    self.conv1 = torch.nn.Conv2d(in_channels=in_channels, out_channels=16,\n",
        "                                 kernel_size=3, stride=2, padding=1)\n",
        "    self.conv2 = torch.nn.Conv2d(in_channels=16, out_channels=32, \n",
        "                                 kernel_size=3, stride=2, padding=1)\n",
        "    self.fc_mu = torch.nn.Linear(in_features=32*7*7, out_features=hidden_dims)\n",
        "    self.fc_logvar = torch.nn.Linear(in_features=32*7*7,\n",
        "                                     out_features=hidden_dims)\n",
        "    \n",
        "  def forward(self, x):\n",
        "    x = torch.nn.ReLU()(self.conv1(x))\n",
        "    x = torch.nn.ReLU()(self.conv2(x))\n",
        "    x = x.view(x.shape[0], -1)\n",
        "    x_mu = self.fc_mu(x)\n",
        "    x_logvar = self.fc_logvar(x)\n",
        "\n",
        "    return x_mu, x_logvar"
      ],
      "execution_count": 9,
      "outputs": [
        {
          "output_type": "stream",
          "text": [
            "\n"
          ],
          "name": "stdout"
        }
      ]
    },
    {
      "cell_type": "code",
      "metadata": {
        "id": "PGdqbFcBB3yX",
        "colab_type": "code",
        "colab": {}
      },
      "source": [
        "class Decoder(torch.nn.Module):\n",
        "  \"\"\"\n",
        "  Decoder for variational Auto-Encoder\n",
        "  \"\"\"\n",
        "  def __init__(self, in_channels=1, hidden_dims=16):\n",
        "    super().__init__()\n",
        "    self.fc = torch.nn.Linear(in_features=hidden_dims, out_features=32*7*7)\n",
        "    self.conv1 = torch.nn.ConvTranspose2d(in_channels=32, out_channels=16,\n",
        "                                          kernel_size=3, stride=2,\n",
        "                                          padding=1, output_padding=1)\n",
        "    self.conv2 = torch.nn.ConvTranspose2d(in_channels=16, \n",
        "                                          out_channels=in_channels,\n",
        "                                          kernel_size=3, stride=2, \n",
        "                                          padding=1, output_padding=1)\n",
        "    \n",
        "  def forward(self, x):\n",
        "    x = self.fc(x)\n",
        "    x = x.view(x.shape[0], 32, 7,7)\n",
        "    x = torch.nn.ReLU()(self.conv1(x))\n",
        "    x = torch.nn.Sigmoid()(self.conv2(x))\n",
        "\n",
        "    return x"
      ],
      "execution_count": 18,
      "outputs": []
    },
    {
      "cell_type": "code",
      "metadata": {
        "id": "5cP4ghvbOBJS",
        "colab_type": "code",
        "colab": {}
      },
      "source": [
        "class VariationalAutoEncoder(torch.nn.Module):\n",
        "  def __init__(self, in_channels=1, hidden_dims=16):\n",
        "    super().__init__()\n",
        "    self.encoder = Encoder(in_channels=in_channels, hidden_dims=hidden_dims)\n",
        "    self.decoder= Decoder(in_channels=in_channels, hidden_dims=hidden_dims)\n",
        "\n",
        "  def forward(self, x):\n",
        "    x_mu, x_logvar = self.encoder(x)\n",
        "    z = self.latent_sample(x_mu, x_logvar)\n",
        "    x = self.decoder(z)\n",
        "    \n",
        "    return x, x_mu, x_logvar\n",
        "\n",
        "  def latent_sample(self, x_mu, x_logvar):\n",
        "    if self.training:\n",
        "      # Reparameterization Trick\n",
        "      std = x_logvar.mul(0.5).exp()\n",
        "      eps = torch.empty_like(std).normal_()\n",
        "    \n",
        "      return eps.mul(std).add(x_mu)\n",
        "\n",
        "    else:\n",
        "      return x_mu\n"
      ],
      "execution_count": 19,
      "outputs": []
    },
    {
      "cell_type": "markdown",
      "metadata": {
        "id": "mJbDdMoUU_EG",
        "colab_type": "text"
      },
      "source": [
        "#### Loss definition"
      ]
    },
    {
      "cell_type": "code",
      "metadata": {
        "id": "ZaPOfU4YUj8J",
        "colab_type": "code",
        "colab": {}
      },
      "source": [
        "def vae_loss(y_true, y_pred, mu, logvar):\n",
        "  bce_loss = torch.nn.BCELoss(reduction='sum')\n",
        "  reconstruction_loss = bce_loss(y_true.view(-1, im_w*im_h), y_pred.view(-1, im_w*im_h))\n",
        "  kld_loss = -0.5 * torch.sum(1 + logvar - mu.pow(2) - logvar.exp())\n",
        "\n",
        "  return reconstruction_loss + beta * kld_loss"
      ],
      "execution_count": 20,
      "outputs": []
    },
    {
      "cell_type": "markdown",
      "metadata": {
        "id": "85_2i2CdY7t5",
        "colab_type": "text"
      },
      "source": [
        "### Training"
      ]
    },
    {
      "cell_type": "code",
      "metadata": {
        "id": "IxkVxQXXXWDS",
        "colab_type": "code",
        "colab": {
          "base_uri": "https://localhost:8080/",
          "height": 243
        },
        "outputId": "b8a2dc35-6b56-43f8-94cf-30df919cacb0"
      },
      "source": [
        "vae = VariationalAutoEncoder(hidden_dims=latent_dim)\n",
        "vae.to(device)"
      ],
      "execution_count": 21,
      "outputs": [
        {
          "output_type": "execute_result",
          "data": {
            "text/plain": [
              "VariationalAutoEncoder(\n",
              "  (encoder): Encoder(\n",
              "    (conv1): Conv2d(1, 16, kernel_size=(3, 3), stride=(2, 2), padding=(1, 1))\n",
              "    (conv2): Conv2d(16, 32, kernel_size=(3, 3), stride=(2, 2), padding=(1, 1))\n",
              "    (fc_mu): Linear(in_features=1568, out_features=16, bias=True)\n",
              "    (fc_logvar): Linear(in_features=1568, out_features=16, bias=True)\n",
              "  )\n",
              "  (decoder): Decoder(\n",
              "    (fc): Linear(in_features=16, out_features=1568, bias=True)\n",
              "    (conv1): ConvTranspose2d(32, 16, kernel_size=(3, 3), stride=(2, 2), padding=(1, 1), output_padding=(1, 1))\n",
              "    (conv2): ConvTranspose2d(16, 1, kernel_size=(3, 3), stride=(2, 2), padding=(1, 1), output_padding=(1, 1))\n",
              "  )\n",
              ")"
            ]
          },
          "metadata": {
            "tags": []
          },
          "execution_count": 21
        }
      ]
    },
    {
      "cell_type": "code",
      "metadata": {
        "id": "CWsdSuwdZDXC",
        "colab_type": "code",
        "colab": {}
      },
      "source": [
        "optimizer = torch.optim.Adam(params=vae.parameters(), lr=0.001, weight_decay=1e-5)"
      ],
      "execution_count": 22,
      "outputs": []
    },
    {
      "cell_type": "code",
      "metadata": {
        "id": "SizgI_2q2MB2",
        "colab_type": "code",
        "colab": {
          "base_uri": "https://localhost:8080/",
          "height": 191
        },
        "outputId": "a30569eb-d944-48b0-83d5-34c2f301c7fd"
      },
      "source": [
        "# Set VAE to train mode\n",
        "vae.train()\n",
        "# Keep records of loss for each epoch\n",
        "loss_list = []\n",
        "# Number of batches\n",
        "num_batches = len(train_loader)\n",
        "\n",
        "\n",
        "for epoch in range(num_epoch):\n",
        "  loss_list.append(0)\n",
        "\n",
        "  with tqdm.tqdm(total=num_batches) as pbar:  \n",
        "    for i, (image_batch, _) in enumerate(train_loader):\n",
        "      # Move image_batch to GPU if available\n",
        "      image_batch = image_batch.to(device)\n",
        "      # Get Output of VAE\n",
        "      reconstructed_image_batch, mu, logvar = vae(image_batch)\n",
        "      # Get Loss of VAE\n",
        "      loss = vae_loss(reconstructed_image_batch, image_batch, mu, logvar)\n",
        "      # Set gradients to zero\n",
        "      optimizer.zero_grad()\n",
        "      # Perform backpropagation\n",
        "      loss.backward()\n",
        "      # Update Weights\n",
        "      optimizer.step()\n",
        "      # Add loss of current batch to total loss\n",
        "      loss_list[-1] += loss.item()\n",
        "      # Update the loading bar\n",
        "      pbar.update(1)\n",
        "      pbar.set_description(f\"Epoch: [{epoch+1}/{num_epoch}],\\t Loss: {loss_list[-1]/(i+1)}\\t\")\n",
        "    # Average of the loss over all the batches\n",
        "    loss_list[-1] /= num_batches\n"
      ],
      "execution_count": 23,
      "outputs": [
        {
          "output_type": "stream",
          "text": [
            "Epoch: [1/10],\t Loss: 10140.930990711204\t: 100%|██████████| 938/938 [00:15<00:00, 59.60it/s]\n",
            "Epoch: [2/10],\t Loss: 7756.051274736807\t: 100%|██████████| 938/938 [00:15<00:00, 59.40it/s]\n",
            "Epoch: [3/10],\t Loss: 7384.519679348097\t: 100%|██████████| 938/938 [00:15<00:00, 58.79it/s]\n",
            "Epoch: [4/10],\t Loss: 7193.113270838886\t: 100%|██████████| 938/938 [00:15<00:00, 59.61it/s]\n",
            "Epoch: [5/10],\t Loss: 7077.909815025736\t: 100%|██████████| 938/938 [00:15<00:00, 59.88it/s]\n",
            "Epoch: [6/10],\t Loss: 7001.894456289979\t: 100%|██████████| 938/938 [00:15<00:00, 59.39it/s]\n",
            "Epoch: [7/10],\t Loss: 6942.763058139825\t: 100%|██████████| 938/938 [00:15<00:00, 59.85it/s]\n",
            "Epoch: [8/10],\t Loss: 6900.280169846915\t: 100%|██████████| 938/938 [00:15<00:00, 59.16it/s]\n",
            "Epoch: [9/10],\t Loss: 6865.257088927572\t: 100%|██████████| 938/938 [00:15<00:00, 59.60it/s]\n",
            "Epoch: [10/10],\t Loss: 6837.471363189632\t: 100%|██████████| 938/938 [00:15<00:00, 59.47it/s]\n"
          ],
          "name": "stderr"
        }
      ]
    },
    {
      "cell_type": "code",
      "metadata": {
        "id": "90kRJFIdHL1H",
        "colab_type": "code",
        "colab": {}
      },
      "source": [
        "# Save Model Weights\n",
        "torch.save(vae.state_dict(), '/content/drive/My Drive/DeepLearning/PytorchVAE/vae_10.pt')"
      ],
      "execution_count": 24,
      "outputs": []
    },
    {
      "cell_type": "code",
      "metadata": {
        "id": "rzwugP9GWfyZ",
        "colab_type": "code",
        "colab": {
          "base_uri": "https://localhost:8080/",
          "height": 265
        },
        "outputId": "eff42878-6516-45eb-a3b2-e5f2f7e9fa6d"
      },
      "source": [
        "# Visualize loss plot\n",
        "plt.plot(loss_list)\n",
        "plt.show()"
      ],
      "execution_count": 25,
      "outputs": [
        {
          "output_type": "display_data",
          "data": {
            "image/png": "[encoded data removed]",
            "text/plain": [
              "<Figure size 432x288 with 1 Axes>"
            ]
          },
          "metadata": {
            "tags": [],
            "needs_background": "light"
          }
        }
      ]
    },
    {
      "cell_type": "markdown",
      "metadata": {
        "id": "uVosyzfsJh06",
        "colab_type": "text"
      },
      "source": [
        "### Inference"
      ]
    },
    {
      "cell_type": "code",
      "metadata": {
        "id": "7Lbux2imJk-c",
        "colab_type": "code",
        "colab": {
          "base_uri": "https://localhost:8080/",
          "height": 34
        },
        "outputId": "5975a1fa-17e5-4ef7-b224-70ce97b134c0"
      },
      "source": [
        "vae.load_state_dict(\n",
        "    torch.load('/content/drive/My Drive/DeepLearning/PytorchVAE/vae_10.pt')\n",
        "    )"
      ],
      "execution_count": 26,
      "outputs": [
        {
          "output_type": "execute_result",
          "data": {
            "text/plain": [
              "<All keys matched successfully>"
            ]
          },
          "metadata": {
            "tags": []
          },
          "execution_count": 26
        }
      ]
    },
    {
      "cell_type": "code",
      "metadata": {
        "id": "uGRmocEMNdEs",
        "colab_type": "code",
        "colab": {}
      },
      "source": [
        "vae.eval()\n",
        "with torch.no_grad():\n",
        "  image_tensor = vae(next(iter(test_loader))[0].to(device))\n",
        "img = tensor_to_image(image_tensor)"
      ],
      "execution_count": 27,
      "outputs": []
    },
    {
      "cell_type": "code",
      "metadata": {
        "id": "d4qD4ZmucUSk",
        "colab_type": "code",
        "colab": {
          "base_uri": "https://localhost:8080/",
          "height": 708
        },
        "outputId": "ab70c9c5-776f-4934-9c19-ff7407390b42"
      },
      "source": [
        "show_image_batch(img[:-1])"
      ],
      "execution_count": 28,
      "outputs": [
        {
          "output_type": "display_data",
          "data": {
            "image/png": "[encoded data removed]",
            "text/plain": [
              "<Figure size 864x864 with 8 Axes>"
            ]
          },
          "metadata": {
            "tags": [],
            "needs_background": "light"
          }
        },
        {
          "output_type": "display_data",
          "data": {
            "image/png": "[encoded data removed]",
            "text/plain": [
              "<Figure size 864x864 with 8 Axes>"
            ]
          },
          "metadata": {
            "tags": [],
            "needs_background": "light"
          }
        },
        {
          "output_type": "display_data",
          "data": {
            "image/png": "[encoded data removed]",
            "text/plain": [
              "<Figure size 864x864 with 8 Axes>"
            ]
          },
          "metadata": {
            "tags": [],
            "needs_background": "light"
          }
        },
        {
          "output_type": "display_data",
          "data": {
            "image/png": "[encoded data removed]",
            "text/plain": [
              "<Figure size 864x864 with 8 Axes>"
            ]
          },
          "metadata": {
            "tags": [],
            "needs_background": "light"
          }
        },
        {
          "output_type": "display_data",
          "data": {
            "image/png": "[encoded data removed]",
            "text/plain": [
              "<Figure size 864x864 with 8 Axes>"
            ]
          },
          "metadata": {
            "tags": [],
            "needs_background": "light"
          }
        },
        {
          "output_type": "display_data",
          "data": {
            "image/png": "[encoded data removed]",
            "text/plain": [
              "<Figure size 864x864 with 8 Axes>"
            ]
          },
          "metadata": {
            "tags": [],
            "needs_background": "light"
          }
        },
        {
          "output_type": "display_data",
          "data": {
            "image/png": "[encoded data removed]",
            "text/plain": [
              "<Figure size 864x864 with 8 Axes>"
            ]
          },
          "metadata": {
            "tags": [],
            "needs_background": "light"
          }
        },
        {
          "output_type": "display_data",
          "data": {
            "image/png": "[encoded data removed]",
            "text/plain": [
              "<Figure size 864x864 with 7 Axes>"
            ]
          },
          "metadata": {
            "tags": [],
            "needs_background": "light"
          }
        }
      ]
    },
    {
      "cell_type": "code",
      "metadata": {
        "id": "CrDf0v56h5Mu",
        "colab_type": "code",
        "colab": {}
      },
      "source": [
        ""
      ],
      "execution_count": null,
      "outputs": []
    }
  ]
}