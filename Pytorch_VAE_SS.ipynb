{
  "nbformat": 4,
  "nbformat_minor": 0,
  "metadata": {
    "colab": {
      "name": "Pytorch-VAE-SS",
      "provenance": [],
      "toc_visible": true,
      "mount_file_id": "1TjVoOXopNz20PozQobTpDZE3Bd6VnTmM",
      "authorship_tag": "ABX9TyMWaZFtlaRWGwds1k4h7ebh",
      "include_colab_link": true
    },
    "kernelspec": {
      "name": "python3",
      "display_name": "Python 3"
    },
    "accelerator": "GPU",
    "widgets": {
      "application/vnd.jupyter.widget-state+json": {
        "91e83862a96546b6ac495b9e22b230b1": {
          "model_module": "@jupyter-widgets/controls",
          "model_name": "HBoxModel",
          "state": {
            "_view_name": "HBoxView",
            "_dom_classes": [],
            "_model_name": "HBoxModel",
            "_view_module": "@jupyter-widgets/controls",
            "_model_module_version": "1.5.0",
            "_view_count": null,
            "_view_module_version": "1.5.0",
            "box_style": "",
            "layout": "IPY_MODEL_3fa0ef06a54a447199907d3b3f81b7ab",
            "_model_module": "@jupyter-widgets/controls",
            "children": [
              "IPY_MODEL_e563c70e1bf14fb6a1bf2f38f88f1f1b",
              "IPY_MODEL_887370c75d4e48bcb452909c46d5edf2"
            ]
          }
        },
        "3fa0ef06a54a447199907d3b3f81b7ab": {
          "model_module": "@jupyter-widgets/base",
          "model_name": "LayoutModel",
          "state": {
            "_view_name": "LayoutView",
            "grid_template_rows": null,
            "right": null,
            "justify_content": null,
            "_view_module": "@jupyter-widgets/base",
            "overflow": null,
            "_model_module_version": "1.2.0",
            "_view_count": null,
            "flex_flow": null,
            "width": null,
            "min_width": null,
            "border": null,
            "align_items": null,
            "bottom": null,
            "_model_module": "@jupyter-widgets/base",
            "top": null,
            "grid_column": null,
            "overflow_y": null,
            "overflow_x": null,
            "grid_auto_flow": null,
            "grid_area": null,
            "grid_template_columns": null,
            "flex": null,
            "_model_name": "LayoutModel",
            "justify_items": null,
            "grid_row": null,
            "max_height": null,
            "align_content": null,
            "visibility": null,
            "align_self": null,
            "height": null,
            "min_height": null,
            "padding": null,
            "grid_auto_rows": null,
            "grid_gap": null,
            "max_width": null,
            "order": null,
            "_view_module_version": "1.2.0",
            "grid_template_areas": null,
            "object_position": null,
            "object_fit": null,
            "grid_auto_columns": null,
            "margin": null,
            "display": null,
            "left": null
          }
        },
        "e563c70e1bf14fb6a1bf2f38f88f1f1b": {
          "model_module": "@jupyter-widgets/controls",
          "model_name": "FloatProgressModel",
          "state": {
            "_view_name": "ProgressView",
            "style": "IPY_MODEL_39f5a243638c4c7bbcae0baa7907be66",
            "_dom_classes": [],
            "description": "",
            "_model_name": "FloatProgressModel",
            "bar_style": "info",
            "max": 1,
            "_view_module": "@jupyter-widgets/controls",
            "_model_module_version": "1.5.0",
            "value": 1,
            "_view_count": null,
            "_view_module_version": "1.5.0",
            "orientation": "horizontal",
            "min": 0,
            "description_tooltip": null,
            "_model_module": "@jupyter-widgets/controls",
            "layout": "IPY_MODEL_0f2558cbecdc4b2d95ff1bee93912511"
          }
        },
        "887370c75d4e48bcb452909c46d5edf2": {
          "model_module": "@jupyter-widgets/controls",
          "model_name": "HTMLModel",
          "state": {
            "_view_name": "HTMLView",
            "style": "IPY_MODEL_d6003df23fee4125bfc8f8cc47a7362b",
            "_dom_classes": [],
            "description": "",
            "_model_name": "HTMLModel",
            "placeholder": "​",
            "_view_module": "@jupyter-widgets/controls",
            "_model_module_version": "1.5.0",
            "value": " 9920512/? [00:20&lt;00:00, 720576.20it/s]",
            "_view_count": null,
            "_view_module_version": "1.5.0",
            "description_tooltip": null,
            "_model_module": "@jupyter-widgets/controls",
            "layout": "IPY_MODEL_8fa4d778950e401fbbf3c92dbb528fd0"
          }
        },
        "39f5a243638c4c7bbcae0baa7907be66": {
          "model_module": "@jupyter-widgets/controls",
          "model_name": "ProgressStyleModel",
          "state": {
            "_view_name": "StyleView",
            "_model_name": "ProgressStyleModel",
            "description_width": "initial",
            "_view_module": "@jupyter-widgets/base",
            "_model_module_version": "1.5.0",
            "_view_count": null,
            "_view_module_version": "1.2.0",
            "bar_color": null,
            "_model_module": "@jupyter-widgets/controls"
          }
        },
        "0f2558cbecdc4b2d95ff1bee93912511": {
          "model_module": "@jupyter-widgets/base",
          "model_name": "LayoutModel",
          "state": {
            "_view_name": "LayoutView",
            "grid_template_rows": null,
            "right": null,
            "justify_content": null,
            "_view_module": "@jupyter-widgets/base",
            "overflow": null,
            "_model_module_version": "1.2.0",
            "_view_count": null,
            "flex_flow": null,
            "width": null,
            "min_width": null,
            "border": null,
            "align_items": null,
            "bottom": null,
            "_model_module": "@jupyter-widgets/base",
            "top": null,
            "grid_column": null,
            "overflow_y": null,
            "overflow_x": null,
            "grid_auto_flow": null,
            "grid_area": null,
            "grid_template_columns": null,
            "flex": null,
            "_model_name": "LayoutModel",
            "justify_items": null,
            "grid_row": null,
            "max_height": null,
            "align_content": null,
            "visibility": null,
            "align_self": null,
            "height": null,
            "min_height": null,
            "padding": null,
            "grid_auto_rows": null,
            "grid_gap": null,
            "max_width": null,
            "order": null,
            "_view_module_version": "1.2.0",
            "grid_template_areas": null,
            "object_position": null,
            "object_fit": null,
            "grid_auto_columns": null,
            "margin": null,
            "display": null,
            "left": null
          }
        },
        "d6003df23fee4125bfc8f8cc47a7362b": {
          "model_module": "@jupyter-widgets/controls",
          "model_name": "DescriptionStyleModel",
          "state": {
            "_view_name": "StyleView",
            "_model_name": "DescriptionStyleModel",
            "description_width": "",
            "_view_module": "@jupyter-widgets/base",
            "_model_module_version": "1.5.0",
            "_view_count": null,
            "_view_module_version": "1.2.0",
            "_model_module": "@jupyter-widgets/controls"
          }
        },
        "8fa4d778950e401fbbf3c92dbb528fd0": {
          "model_module": "@jupyter-widgets/base",
          "model_name": "LayoutModel",
          "state": {
            "_view_name": "LayoutView",
            "grid_template_rows": null,
            "right": null,
            "justify_content": null,
            "_view_module": "@jupyter-widgets/base",
            "overflow": null,
            "_model_module_version": "1.2.0",
            "_view_count": null,
            "flex_flow": null,
            "width": null,
            "min_width": null,
            "border": null,
            "align_items": null,
            "bottom": null,
            "_model_module": "@jupyter-widgets/base",
            "top": null,
            "grid_column": null,
            "overflow_y": null,
            "overflow_x": null,
            "grid_auto_flow": null,
            "grid_area": null,
            "grid_template_columns": null,
            "flex": null,
            "_model_name": "LayoutModel",
            "justify_items": null,
            "grid_row": null,
            "max_height": null,
            "align_content": null,
            "visibility": null,
            "align_self": null,
            "height": null,
            "min_height": null,
            "padding": null,
            "grid_auto_rows": null,
            "grid_gap": null,
            "max_width": null,
            "order": null,
            "_view_module_version": "1.2.0",
            "grid_template_areas": null,
            "object_position": null,
            "object_fit": null,
            "grid_auto_columns": null,
            "margin": null,
            "display": null,
            "left": null
          }
        },
        "8496ba20fb6447eea8f08d8cd7d87d75": {
          "model_module": "@jupyter-widgets/controls",
          "model_name": "HBoxModel",
          "state": {
            "_view_name": "HBoxView",
            "_dom_classes": [],
            "_model_name": "HBoxModel",
            "_view_module": "@jupyter-widgets/controls",
            "_model_module_version": "1.5.0",
            "_view_count": null,
            "_view_module_version": "1.5.0",
            "box_style": "",
            "layout": "IPY_MODEL_5b08b6b3d63c402086c1ba70e52b2c58",
            "_model_module": "@jupyter-widgets/controls",
            "children": [
              "IPY_MODEL_610e22fc4f974420971e082781630093",
              "IPY_MODEL_1e47950dce7f439b88f35a5d06f5f249"
            ]
          }
        },
        "5b08b6b3d63c402086c1ba70e52b2c58": {
          "model_module": "@jupyter-widgets/base",
          "model_name": "LayoutModel",
          "state": {
            "_view_name": "LayoutView",
            "grid_template_rows": null,
            "right": null,
            "justify_content": null,
            "_view_module": "@jupyter-widgets/base",
            "overflow": null,
            "_model_module_version": "1.2.0",
            "_view_count": null,
            "flex_flow": null,
            "width": null,
            "min_width": null,
            "border": null,
            "align_items": null,
            "bottom": null,
            "_model_module": "@jupyter-widgets/base",
            "top": null,
            "grid_column": null,
            "overflow_y": null,
            "overflow_x": null,
            "grid_auto_flow": null,
            "grid_area": null,
            "grid_template_columns": null,
            "flex": null,
            "_model_name": "LayoutModel",
            "justify_items": null,
            "grid_row": null,
            "max_height": null,
            "align_content": null,
            "visibility": null,
            "align_self": null,
            "height": null,
            "min_height": null,
            "padding": null,
            "grid_auto_rows": null,
            "grid_gap": null,
            "max_width": null,
            "order": null,
            "_view_module_version": "1.2.0",
            "grid_template_areas": null,
            "object_position": null,
            "object_fit": null,
            "grid_auto_columns": null,
            "margin": null,
            "display": null,
            "left": null
          }
        },
        "610e22fc4f974420971e082781630093": {
          "model_module": "@jupyter-widgets/controls",
          "model_name": "FloatProgressModel",
          "state": {
            "_view_name": "ProgressView",
            "style": "IPY_MODEL_083fcfa68edc49f599b329a84b006309",
            "_dom_classes": [],
            "description": "",
            "_model_name": "FloatProgressModel",
            "bar_style": "success",
            "max": 1,
            "_view_module": "@jupyter-widgets/controls",
            "_model_module_version": "1.5.0",
            "value": 1,
            "_view_count": null,
            "_view_module_version": "1.5.0",
            "orientation": "horizontal",
            "min": 0,
            "description_tooltip": null,
            "_model_module": "@jupyter-widgets/controls",
            "layout": "IPY_MODEL_73a76b24ce804abcaf1d1da6c317be9b"
          }
        },
        "1e47950dce7f439b88f35a5d06f5f249": {
          "model_module": "@jupyter-widgets/controls",
          "model_name": "HTMLModel",
          "state": {
            "_view_name": "HTMLView",
            "style": "IPY_MODEL_b775c37edb3a471ebe27e806867f31c1",
            "_dom_classes": [],
            "description": "",
            "_model_name": "HTMLModel",
            "placeholder": "​",
            "_view_module": "@jupyter-widgets/controls",
            "_model_module_version": "1.5.0",
            "value": " 32768/? [00:00&lt;00:00, 103681.19it/s]",
            "_view_count": null,
            "_view_module_version": "1.5.0",
            "description_tooltip": null,
            "_model_module": "@jupyter-widgets/controls",
            "layout": "IPY_MODEL_ce37f1471323424ca47886d0daa27a09"
          }
        },
        "083fcfa68edc49f599b329a84b006309": {
          "model_module": "@jupyter-widgets/controls",
          "model_name": "ProgressStyleModel",
          "state": {
            "_view_name": "StyleView",
            "_model_name": "ProgressStyleModel",
            "description_width": "initial",
            "_view_module": "@jupyter-widgets/base",
            "_model_module_version": "1.5.0",
            "_view_count": null,
            "_view_module_version": "1.2.0",
            "bar_color": null,
            "_model_module": "@jupyter-widgets/controls"
          }
        },
        "73a76b24ce804abcaf1d1da6c317be9b": {
          "model_module": "@jupyter-widgets/base",
          "model_name": "LayoutModel",
          "state": {
            "_view_name": "LayoutView",
            "grid_template_rows": null,
            "right": null,
            "justify_content": null,
            "_view_module": "@jupyter-widgets/base",
            "overflow": null,
            "_model_module_version": "1.2.0",
            "_view_count": null,
            "flex_flow": null,
            "width": null,
            "min_width": null,
            "border": null,
            "align_items": null,
            "bottom": null,
            "_model_module": "@jupyter-widgets/base",
            "top": null,
            "grid_column": null,
            "overflow_y": null,
            "overflow_x": null,
            "grid_auto_flow": null,
            "grid_area": null,
            "grid_template_columns": null,
            "flex": null,
            "_model_name": "LayoutModel",
            "justify_items": null,
            "grid_row": null,
            "max_height": null,
            "align_content": null,
            "visibility": null,
            "align_self": null,
            "height": null,
            "min_height": null,
            "padding": null,
            "grid_auto_rows": null,
            "grid_gap": null,
            "max_width": null,
            "order": null,
            "_view_module_version": "1.2.0",
            "grid_template_areas": null,
            "object_position": null,
            "object_fit": null,
            "grid_auto_columns": null,
            "margin": null,
            "display": null,
            "left": null
          }
        },
        "b775c37edb3a471ebe27e806867f31c1": {
          "model_module": "@jupyter-widgets/controls",
          "model_name": "DescriptionStyleModel",
          "state": {
            "_view_name": "StyleView",
            "_model_name": "DescriptionStyleModel",
            "description_width": "",
            "_view_module": "@jupyter-widgets/base",
            "_model_module_version": "1.5.0",
            "_view_count": null,
            "_view_module_version": "1.2.0",
            "_model_module": "@jupyter-widgets/controls"
          }
        },
        "ce37f1471323424ca47886d0daa27a09": {
          "model_module": "@jupyter-widgets/base",
          "model_name": "LayoutModel",
          "state": {
            "_view_name": "LayoutView",
            "grid_template_rows": null,
            "right": null,
            "justify_content": null,
            "_view_module": "@jupyter-widgets/base",
            "overflow": null,
            "_model_module_version": "1.2.0",
            "_view_count": null,
            "flex_flow": null,
            "width": null,
            "min_width": null,
            "border": null,
            "align_items": null,
            "bottom": null,
            "_model_module": "@jupyter-widgets/base",
            "top": null,
            "grid_column": null,
            "overflow_y": null,
            "overflow_x": null,
            "grid_auto_flow": null,
            "grid_area": null,
            "grid_template_columns": null,
            "flex": null,
            "_model_name": "LayoutModel",
            "justify_items": null,
            "grid_row": null,
            "max_height": null,
            "align_content": null,
            "visibility": null,
            "align_self": null,
            "height": null,
            "min_height": null,
            "padding": null,
            "grid_auto_rows": null,
            "grid_gap": null,
            "max_width": null,
            "order": null,
            "_view_module_version": "1.2.0",
            "grid_template_areas": null,
            "object_position": null,
            "object_fit": null,
            "grid_auto_columns": null,
            "margin": null,
            "display": null,
            "left": null
          }
        },
        "3e274f3dde10460e89d5b0387cb1f12f": {
          "model_module": "@jupyter-widgets/controls",
          "model_name": "HBoxModel",
          "state": {
            "_view_name": "HBoxView",
            "_dom_classes": [],
            "_model_name": "HBoxModel",
            "_view_module": "@jupyter-widgets/controls",
            "_model_module_version": "1.5.0",
            "_view_count": null,
            "_view_module_version": "1.5.0",
            "box_style": "",
            "layout": "IPY_MODEL_a2f4f05bbf4d4a918c2e3f8a97e6de29",
            "_model_module": "@jupyter-widgets/controls",
            "children": [
              "IPY_MODEL_8e359e5c64204eea9700ac5bfc093d93",
              "IPY_MODEL_44376f2a0ae14a219e04c79be91453cb"
            ]
          }
        },
        "a2f4f05bbf4d4a918c2e3f8a97e6de29": {
          "model_module": "@jupyter-widgets/base",
          "model_name": "LayoutModel",
          "state": {
            "_view_name": "LayoutView",
            "grid_template_rows": null,
            "right": null,
            "justify_content": null,
            "_view_module": "@jupyter-widgets/base",
            "overflow": null,
            "_model_module_version": "1.2.0",
            "_view_count": null,
            "flex_flow": null,
            "width": null,
            "min_width": null,
            "border": null,
            "align_items": null,
            "bottom": null,
            "_model_module": "@jupyter-widgets/base",
            "top": null,
            "grid_column": null,
            "overflow_y": null,
            "overflow_x": null,
            "grid_auto_flow": null,
            "grid_area": null,
            "grid_template_columns": null,
            "flex": null,
            "_model_name": "LayoutModel",
            "justify_items": null,
            "grid_row": null,
            "max_height": null,
            "align_content": null,
            "visibility": null,
            "align_self": null,
            "height": null,
            "min_height": null,
            "padding": null,
            "grid_auto_rows": null,
            "grid_gap": null,
            "max_width": null,
            "order": null,
            "_view_module_version": "1.2.0",
            "grid_template_areas": null,
            "object_position": null,
            "object_fit": null,
            "grid_auto_columns": null,
            "margin": null,
            "display": null,
            "left": null
          }
        },
        "8e359e5c64204eea9700ac5bfc093d93": {
          "model_module": "@jupyter-widgets/controls",
          "model_name": "FloatProgressModel",
          "state": {
            "_view_name": "ProgressView",
            "style": "IPY_MODEL_4383c34bc6b543789bfcf45b257af767",
            "_dom_classes": [],
            "description": "",
            "_model_name": "FloatProgressModel",
            "bar_style": "info",
            "max": 1,
            "_view_module": "@jupyter-widgets/controls",
            "_model_module_version": "1.5.0",
            "value": 1,
            "_view_count": null,
            "_view_module_version": "1.5.0",
            "orientation": "horizontal",
            "min": 0,
            "description_tooltip": null,
            "_model_module": "@jupyter-widgets/controls",
            "layout": "IPY_MODEL_848c268c1c7c434f9d760712a9429d5b"
          }
        },
        "44376f2a0ae14a219e04c79be91453cb": {
          "model_module": "@jupyter-widgets/controls",
          "model_name": "HTMLModel",
          "state": {
            "_view_name": "HTMLView",
            "style": "IPY_MODEL_17c3d543d4c54417b1da9f020ca5bad7",
            "_dom_classes": [],
            "description": "",
            "_model_name": "HTMLModel",
            "placeholder": "​",
            "_view_module": "@jupyter-widgets/controls",
            "_model_module_version": "1.5.0",
            "value": " 1654784/? [00:18&lt;00:00, 251350.81it/s]",
            "_view_count": null,
            "_view_module_version": "1.5.0",
            "description_tooltip": null,
            "_model_module": "@jupyter-widgets/controls",
            "layout": "IPY_MODEL_fe72245337a64cb681aa7f4b9102f832"
          }
        },
        "4383c34bc6b543789bfcf45b257af767": {
          "model_module": "@jupyter-widgets/controls",
          "model_name": "ProgressStyleModel",
          "state": {
            "_view_name": "StyleView",
            "_model_name": "ProgressStyleModel",
            "description_width": "initial",
            "_view_module": "@jupyter-widgets/base",
            "_model_module_version": "1.5.0",
            "_view_count": null,
            "_view_module_version": "1.2.0",
            "bar_color": null,
            "_model_module": "@jupyter-widgets/controls"
          }
        },
        "848c268c1c7c434f9d760712a9429d5b": {
          "model_module": "@jupyter-widgets/base",
          "model_name": "LayoutModel",
          "state": {
            "_view_name": "LayoutView",
            "grid_template_rows": null,
            "right": null,
            "justify_content": null,
            "_view_module": "@jupyter-widgets/base",
            "overflow": null,
            "_model_module_version": "1.2.0",
            "_view_count": null,
            "flex_flow": null,
            "width": null,
            "min_width": null,
            "border": null,
            "align_items": null,
            "bottom": null,
            "_model_module": "@jupyter-widgets/base",
            "top": null,
            "grid_column": null,
            "overflow_y": null,
            "overflow_x": null,
            "grid_auto_flow": null,
            "grid_area": null,
            "grid_template_columns": null,
            "flex": null,
            "_model_name": "LayoutModel",
            "justify_items": null,
            "grid_row": null,
            "max_height": null,
            "align_content": null,
            "visibility": null,
            "align_self": null,
            "height": null,
            "min_height": null,
            "padding": null,
            "grid_auto_rows": null,
            "grid_gap": null,
            "max_width": null,
            "order": null,
            "_view_module_version": "1.2.0",
            "grid_template_areas": null,
            "object_position": null,
            "object_fit": null,
            "grid_auto_columns": null,
            "margin": null,
            "display": null,
            "left": null
          }
        },
        "17c3d543d4c54417b1da9f020ca5bad7": {
          "model_module": "@jupyter-widgets/controls",
          "model_name": "DescriptionStyleModel",
          "state": {
            "_view_name": "StyleView",
            "_model_name": "DescriptionStyleModel",
            "description_width": "",
            "_view_module": "@jupyter-widgets/base",
            "_model_module_version": "1.5.0",
            "_view_count": null,
            "_view_module_version": "1.2.0",
            "_model_module": "@jupyter-widgets/controls"
          }
        },
        "fe72245337a64cb681aa7f4b9102f832": {
          "model_module": "@jupyter-widgets/base",
          "model_name": "LayoutModel",
          "state": {
            "_view_name": "LayoutView",
            "grid_template_rows": null,
            "right": null,
            "justify_content": null,
            "_view_module": "@jupyter-widgets/base",
            "overflow": null,
            "_model_module_version": "1.2.0",
            "_view_count": null,
            "flex_flow": null,
            "width": null,
            "min_width": null,
            "border": null,
            "align_items": null,
            "bottom": null,
            "_model_module": "@jupyter-widgets/base",
            "top": null,
            "grid_column": null,
            "overflow_y": null,
            "overflow_x": null,
            "grid_auto_flow": null,
            "grid_area": null,
            "grid_template_columns": null,
            "flex": null,
            "_model_name": "LayoutModel",
            "justify_items": null,
            "grid_row": null,
            "max_height": null,
            "align_content": null,
            "visibility": null,
            "align_self": null,
            "height": null,
            "min_height": null,
            "padding": null,
            "grid_auto_rows": null,
            "grid_gap": null,
            "max_width": null,
            "order": null,
            "_view_module_version": "1.2.0",
            "grid_template_areas": null,
            "object_position": null,
            "object_fit": null,
            "grid_auto_columns": null,
            "margin": null,
            "display": null,
            "left": null
          }
        },
        "142eee0d043f44808b94900d22102dd9": {
          "model_module": "@jupyter-widgets/controls",
          "model_name": "HBoxModel",
          "state": {
            "_view_name": "HBoxView",
            "_dom_classes": [],
            "_model_name": "HBoxModel",
            "_view_module": "@jupyter-widgets/controls",
            "_model_module_version": "1.5.0",
            "_view_count": null,
            "_view_module_version": "1.5.0",
            "box_style": "",
            "layout": "IPY_MODEL_3c08ba680819429aa524ba6306d6d7c3",
            "_model_module": "@jupyter-widgets/controls",
            "children": [
              "IPY_MODEL_d62d8f741580411c82f97829df67c570",
              "IPY_MODEL_708e2c8070804c4f9a3b6cc8c71fcb7c"
            ]
          }
        },
        "3c08ba680819429aa524ba6306d6d7c3": {
          "model_module": "@jupyter-widgets/base",
          "model_name": "LayoutModel",
          "state": {
            "_view_name": "LayoutView",
            "grid_template_rows": null,
            "right": null,
            "justify_content": null,
            "_view_module": "@jupyter-widgets/base",
            "overflow": null,
            "_model_module_version": "1.2.0",
            "_view_count": null,
            "flex_flow": null,
            "width": null,
            "min_width": null,
            "border": null,
            "align_items": null,
            "bottom": null,
            "_model_module": "@jupyter-widgets/base",
            "top": null,
            "grid_column": null,
            "overflow_y": null,
            "overflow_x": null,
            "grid_auto_flow": null,
            "grid_area": null,
            "grid_template_columns": null,
            "flex": null,
            "_model_name": "LayoutModel",
            "justify_items": null,
            "grid_row": null,
            "max_height": null,
            "align_content": null,
            "visibility": null,
            "align_self": null,
            "height": null,
            "min_height": null,
            "padding": null,
            "grid_auto_rows": null,
            "grid_gap": null,
            "max_width": null,
            "order": null,
            "_view_module_version": "1.2.0",
            "grid_template_areas": null,
            "object_position": null,
            "object_fit": null,
            "grid_auto_columns": null,
            "margin": null,
            "display": null,
            "left": null
          }
        },
        "d62d8f741580411c82f97829df67c570": {
          "model_module": "@jupyter-widgets/controls",
          "model_name": "FloatProgressModel",
          "state": {
            "_view_name": "ProgressView",
            "style": "IPY_MODEL_9f50e50a46f840dcbe57fc70ab96703b",
            "_dom_classes": [],
            "description": "  0%",
            "_model_name": "FloatProgressModel",
            "bar_style": "info",
            "max": 1,
            "_view_module": "@jupyter-widgets/controls",
            "_model_module_version": "1.5.0",
            "value": 0,
            "_view_count": null,
            "_view_module_version": "1.5.0",
            "orientation": "horizontal",
            "min": 0,
            "description_tooltip": null,
            "_model_module": "@jupyter-widgets/controls",
            "layout": "IPY_MODEL_a5f1619b92f54f5ca7f826c50822ddea"
          }
        },
        "708e2c8070804c4f9a3b6cc8c71fcb7c": {
          "model_module": "@jupyter-widgets/controls",
          "model_name": "HTMLModel",
          "state": {
            "_view_name": "HTMLView",
            "style": "IPY_MODEL_b800ffa0959247a8aa70c4adff3de40b",
            "_dom_classes": [],
            "description": "",
            "_model_name": "HTMLModel",
            "placeholder": "​",
            "_view_module": "@jupyter-widgets/controls",
            "_model_module_version": "1.5.0",
            "value": " 0/4542 [00:00&lt;?, ?it/s]",
            "_view_count": null,
            "_view_module_version": "1.5.0",
            "description_tooltip": null,
            "_model_module": "@jupyter-widgets/controls",
            "layout": "IPY_MODEL_5b789ce92cca4a76b986465d88408e2c"
          }
        },
        "9f50e50a46f840dcbe57fc70ab96703b": {
          "model_module": "@jupyter-widgets/controls",
          "model_name": "ProgressStyleModel",
          "state": {
            "_view_name": "StyleView",
            "_model_name": "ProgressStyleModel",
            "description_width": "initial",
            "_view_module": "@jupyter-widgets/base",
            "_model_module_version": "1.5.0",
            "_view_count": null,
            "_view_module_version": "1.2.0",
            "bar_color": null,
            "_model_module": "@jupyter-widgets/controls"
          }
        },
        "a5f1619b92f54f5ca7f826c50822ddea": {
          "model_module": "@jupyter-widgets/base",
          "model_name": "LayoutModel",
          "state": {
            "_view_name": "LayoutView",
            "grid_template_rows": null,
            "right": null,
            "justify_content": null,
            "_view_module": "@jupyter-widgets/base",
            "overflow": null,
            "_model_module_version": "1.2.0",
            "_view_count": null,
            "flex_flow": null,
            "width": null,
            "min_width": null,
            "border": null,
            "align_items": null,
            "bottom": null,
            "_model_module": "@jupyter-widgets/base",
            "top": null,
            "grid_column": null,
            "overflow_y": null,
            "overflow_x": null,
            "grid_auto_flow": null,
            "grid_area": null,
            "grid_template_columns": null,
            "flex": null,
            "_model_name": "LayoutModel",
            "justify_items": null,
            "grid_row": null,
            "max_height": null,
            "align_content": null,
            "visibility": null,
            "align_self": null,
            "height": null,
            "min_height": null,
            "padding": null,
            "grid_auto_rows": null,
            "grid_gap": null,
            "max_width": null,
            "order": null,
            "_view_module_version": "1.2.0",
            "grid_template_areas": null,
            "object_position": null,
            "object_fit": null,
            "grid_auto_columns": null,
            "margin": null,
            "display": null,
            "left": null
          }
        },
        "b800ffa0959247a8aa70c4adff3de40b": {
          "model_module": "@jupyter-widgets/controls",
          "model_name": "DescriptionStyleModel",
          "state": {
            "_view_name": "StyleView",
            "_model_name": "DescriptionStyleModel",
            "description_width": "",
            "_view_module": "@jupyter-widgets/base",
            "_model_module_version": "1.5.0",
            "_view_count": null,
            "_view_module_version": "1.2.0",
            "_model_module": "@jupyter-widgets/controls"
          }
        },
        "5b789ce92cca4a76b986465d88408e2c": {
          "model_module": "@jupyter-widgets/base",
          "model_name": "LayoutModel",
          "state": {
            "_view_name": "LayoutView",
            "grid_template_rows": null,
            "right": null,
            "justify_content": null,
            "_view_module": "@jupyter-widgets/base",
            "overflow": null,
            "_model_module_version": "1.2.0",
            "_view_count": null,
            "flex_flow": null,
            "width": null,
            "min_width": null,
            "border": null,
            "align_items": null,
            "bottom": null,
            "_model_module": "@jupyter-widgets/base",
            "top": null,
            "grid_column": null,
            "overflow_y": null,
            "overflow_x": null,
            "grid_auto_flow": null,
            "grid_area": null,
            "grid_template_columns": null,
            "flex": null,
            "_model_name": "LayoutModel",
            "justify_items": null,
            "grid_row": null,
            "max_height": null,
            "align_content": null,
            "visibility": null,
            "align_self": null,
            "height": null,
            "min_height": null,
            "padding": null,
            "grid_auto_rows": null,
            "grid_gap": null,
            "max_width": null,
            "order": null,
            "_view_module_version": "1.2.0",
            "grid_template_areas": null,
            "object_position": null,
            "object_fit": null,
            "grid_auto_columns": null,
            "margin": null,
            "display": null,
            "left": null
          }
        }
      }
    }
  },
  "cells": [
    {
      "cell_type": "markdown",
      "metadata": {
        "id": "view-in-github",
        "colab_type": "text"
      },
      "source": [
        "<a href=\"https://colab.research.google.com/github/Ehsan1997/VAE-Pytorch-Colab/blob/master/Pytorch_VAE_SS.ipynb\" target=\"_parent\"><img src=\"https://colab.research.google.com/assets/colab-badge.svg\" alt=\"Open In Colab\"/></a>"
      ]
    },
    {
      "cell_type": "markdown",
      "metadata": {
        "id": "19NdRm3PApkJ",
        "colab_type": "text"
      },
      "source": [
        "### Libraries"
      ]
    },
    {
      "cell_type": "code",
      "metadata": {
        "id": "4J-x1v9_3850",
        "colab_type": "code",
        "colab": {}
      },
      "source": [
        "import torch\n",
        "import torchvision\n",
        "import numpy as np\n",
        "import tqdm\n",
        "import matplotlib.pyplot as plt"
      ],
      "execution_count": null,
      "outputs": []
    },
    {
      "cell_type": "markdown",
      "metadata": {
        "id": "ZHBdv-nvA2-K",
        "colab_type": "text"
      },
      "source": [
        "### Device Handling"
      ]
    },
    {
      "cell_type": "code",
      "metadata": {
        "id": "o5Ta7J4J6r6K",
        "colab_type": "code",
        "colab": {}
      },
      "source": [
        "device = torch.device(\"cuda\" if torch.cuda.is_available() else \"cpu\")"
      ],
      "execution_count": null,
      "outputs": []
    },
    {
      "cell_type": "markdown",
      "metadata": {
        "id": "L-rrmlzHTKJo",
        "colab_type": "text"
      },
      "source": [
        "### Reproducability"
      ]
    },
    {
      "cell_type": "code",
      "metadata": {
        "id": "3c4kUJvtTOAp",
        "colab_type": "code",
        "colab": {}
      },
      "source": [
        "seed = 0\n",
        "torch.manual_seed(seed)\n",
        "if torch.cuda.is_available():\n",
        "  torch.backends.cudnn.deterministic = True\n",
        "  torch.backends.cudnn.benchmark = False\n",
        "np.random.seed(seed)"
      ],
      "execution_count": null,
      "outputs": []
    },
    {
      "cell_type": "markdown",
      "metadata": {
        "id": "dIiZlROeKnsP",
        "colab_type": "text"
      },
      "source": [
        "### Configuration Variables"
      ]
    },
    {
      "cell_type": "code",
      "metadata": {
        "id": "pMKx0PYvKmci",
        "colab_type": "code",
        "colab": {}
      },
      "source": [
        "batch_size = 64\n",
        "# Beta value for disentangled VAE\n",
        "beta = 1\n",
        "# Number of epochs\n",
        "num_epoch = 10\n",
        "# Latent Dimension\n",
        "latent_dim = 16\n",
        "# Image Dimensions\n",
        "im_w, im_h = 28, 28"
      ],
      "execution_count": null,
      "outputs": []
    },
    {
      "cell_type": "markdown",
      "metadata": {
        "id": "fhibIw4VAv8s",
        "colab_type": "text"
      },
      "source": [
        "### Utils"
      ]
    },
    {
      "cell_type": "code",
      "metadata": {
        "id": "-p8poa1s9LnE",
        "colab_type": "code",
        "colab": {}
      },
      "source": [
        "def get_preloaded_dataset(dataset_class, transform,\n",
        "                          batch_size, test_transform=None, shuffle=True):\n",
        "  \"\"\"\n",
        "  Load the preloaded dataset available with pytorch.\n",
        "  \n",
        "  Args:\n",
        "  dataset_class -> class of the preloaded dataset\n",
        "  transform -> Composed Transforms to apply to the image\n",
        "  batch_size -> Number of images per batch\n",
        "  test_transform -> Different Transforms for test dataset,\n",
        "                  if None, transform is used.\n",
        "  shuffle -> Shuffle training data after each epoch or not.\n",
        "\n",
        "  Returns:\n",
        "  Train and test dataloaders\n",
        "  \"\"\"\n",
        "  # If test_transform not specified, used transform\n",
        "  if not test_transform:\n",
        "    test_transform = transform\n",
        "  train_dataset = dataset_class('data', download=True,\n",
        "                                transform=transform)\n",
        "  test_dataset = dataset_class('data', download=True,\n",
        "                               transform=test_transform)\n",
        "  train_loader = torch.utils.data.DataLoader(train_dataset, \n",
        "                                             batch_size=batch_size,\n",
        "                                             shuffle=True)\n",
        "  test_loader = torch.utils.data.DataLoader(test_dataset, batch_size=batch_size)\n",
        "  \n",
        "  return train_loader, test_loader"
      ],
      "execution_count": null,
      "outputs": []
    },
    {
      "cell_type": "code",
      "metadata": {
        "id": "rcjHaJ0sZY2x",
        "colab_type": "code",
        "colab": {}
      },
      "source": [
        "def show_image_batch(img_batch):\n",
        "  n_col = 8\n",
        "  for i in range(0, img_batch.shape[0], n_col):\n",
        "    imgs = img_batch[i:i+n_col]\n",
        "    _, axs = plt.subplots(1, imgs.shape[0], figsize=(12, 12))\n",
        "    axs = axs.flatten()\n",
        "    for img, ax in zip(imgs, axs):\n",
        "      ax.imshow(img, cmap='gray')\n",
        "      ax.set_axis_off()\n",
        "    plt.show()"
      ],
      "execution_count": null,
      "outputs": []
    },
    {
      "cell_type": "code",
      "metadata": {
        "id": "wb41uscGHMts",
        "colab_type": "code",
        "colab": {}
      },
      "source": [
        "def tensor_to_image(image_tensor):\n",
        "  img = image_tensor[0].detach().cpu().numpy()\n",
        "  img = img.transpose(0,2,3,1)\n",
        "  img = np.squeeze(img, -1)\n",
        "\n",
        "  return img"
      ],
      "execution_count": null,
      "outputs": []
    },
    {
      "cell_type": "markdown",
      "metadata": {
        "id": "VAIGZVPzAxWR",
        "colab_type": "text"
      },
      "source": [
        "### Data Loading"
      ]
    },
    {
      "cell_type": "code",
      "metadata": {
        "id": "IxSvYm8E4ouV",
        "colab_type": "code",
        "colab": {
          "base_uri": "https://localhost:8080/",
          "height": 373,
          "referenced_widgets": [
            "91e83862a96546b6ac495b9e22b230b1",
            "3fa0ef06a54a447199907d3b3f81b7ab",
            "e563c70e1bf14fb6a1bf2f38f88f1f1b",
            "887370c75d4e48bcb452909c46d5edf2",
            "39f5a243638c4c7bbcae0baa7907be66",
            "0f2558cbecdc4b2d95ff1bee93912511",
            "d6003df23fee4125bfc8f8cc47a7362b",
            "8fa4d778950e401fbbf3c92dbb528fd0",
            "8496ba20fb6447eea8f08d8cd7d87d75",
            "5b08b6b3d63c402086c1ba70e52b2c58",
            "610e22fc4f974420971e082781630093",
            "1e47950dce7f439b88f35a5d06f5f249",
            "083fcfa68edc49f599b329a84b006309",
            "73a76b24ce804abcaf1d1da6c317be9b",
            "b775c37edb3a471ebe27e806867f31c1",
            "ce37f1471323424ca47886d0daa27a09",
            "3e274f3dde10460e89d5b0387cb1f12f",
            "a2f4f05bbf4d4a918c2e3f8a97e6de29",
            "8e359e5c64204eea9700ac5bfc093d93",
            "44376f2a0ae14a219e04c79be91453cb",
            "4383c34bc6b543789bfcf45b257af767",
            "848c268c1c7c434f9d760712a9429d5b",
            "17c3d543d4c54417b1da9f020ca5bad7",
            "fe72245337a64cb681aa7f4b9102f832",
            "142eee0d043f44808b94900d22102dd9",
            "3c08ba680819429aa524ba6306d6d7c3",
            "d62d8f741580411c82f97829df67c570",
            "708e2c8070804c4f9a3b6cc8c71fcb7c",
            "9f50e50a46f840dcbe57fc70ab96703b",
            "a5f1619b92f54f5ca7f826c50822ddea",
            "b800ffa0959247a8aa70c4adff3de40b",
            "5b789ce92cca4a76b986465d88408e2c"
          ]
        },
        "outputId": "6affdc6c-5c95-47d3-e6a2-0feeea05e0b0"
      },
      "source": [
        "transform = torchvision.transforms.Compose([\n",
        "                                             torchvision.transforms.ToTensor()\n",
        "                                             ])\n",
        "train_loader, test_loader = get_preloaded_dataset(torchvision.datasets.MNIST,\n",
        "                                                  transform, batch_size=batch_size)"
      ],
      "execution_count": null,
      "outputs": [
        {
          "output_type": "stream",
          "text": [
            "Downloading http://yann.lecun.com/exdb/mnist/train-images-idx3-ubyte.gz to data/MNIST/raw/train-images-idx3-ubyte.gz\n"
          ],
          "name": "stdout"
        },
        {
          "output_type": "display_data",
          "data": {
            "application/vnd.jupyter.widget-view+json": {
              "model_id": "91e83862a96546b6ac495b9e22b230b1",
              "version_minor": 0,
              "version_major": 2
            },
            "text/plain": [
              "HBox(children=(FloatProgress(value=1.0, bar_style='info', max=1.0), HTML(value='')))"
            ]
          },
          "metadata": {
            "tags": []
          }
        },
        {
          "output_type": "stream",
          "text": [
            "Extracting data/MNIST/raw/train-images-idx3-ubyte.gz to data/MNIST/raw\n",
            "Downloading http://yann.lecun.com/exdb/mnist/train-labels-idx1-ubyte.gz to data/MNIST/raw/train-labels-idx1-ubyte.gz\n"
          ],
          "name": "stdout"
        },
        {
          "output_type": "display_data",
          "data": {
            "application/vnd.jupyter.widget-view+json": {
              "model_id": "8496ba20fb6447eea8f08d8cd7d87d75",
              "version_minor": 0,
              "version_major": 2
            },
            "text/plain": [
              "HBox(children=(FloatProgress(value=1.0, bar_style='info', max=1.0), HTML(value='')))"
            ]
          },
          "metadata": {
            "tags": []
          }
        },
        {
          "output_type": "stream",
          "text": [
            "Extracting data/MNIST/raw/train-labels-idx1-ubyte.gz to data/MNIST/raw\n",
            "Downloading http://yann.lecun.com/exdb/mnist/t10k-images-idx3-ubyte.gz to data/MNIST/raw/t10k-images-idx3-ubyte.gz\n",
            "\n"
          ],
          "name": "stdout"
        },
        {
          "output_type": "display_data",
          "data": {
            "application/vnd.jupyter.widget-view+json": {
              "model_id": "3e274f3dde10460e89d5b0387cb1f12f",
              "version_minor": 0,
              "version_major": 2
            },
            "text/plain": [
              "HBox(children=(FloatProgress(value=1.0, bar_style='info', max=1.0), HTML(value='')))"
            ]
          },
          "metadata": {
            "tags": []
          }
        },
        {
          "output_type": "stream",
          "text": [
            "Extracting data/MNIST/raw/t10k-images-idx3-ubyte.gz to data/MNIST/raw\n",
            "Downloading http://yann.lecun.com/exdb/mnist/t10k-labels-idx1-ubyte.gz to data/MNIST/raw/t10k-labels-idx1-ubyte.gz\n"
          ],
          "name": "stdout"
        },
        {
          "output_type": "display_data",
          "data": {
            "application/vnd.jupyter.widget-view+json": {
              "model_id": "142eee0d043f44808b94900d22102dd9",
              "version_minor": 0,
              "version_major": 2
            },
            "text/plain": [
              "HBox(children=(FloatProgress(value=1.0, bar_style='info', max=1.0), HTML(value='')))"
            ]
          },
          "metadata": {
            "tags": []
          }
        },
        {
          "output_type": "stream",
          "text": [
            "Extracting data/MNIST/raw/t10k-labels-idx1-ubyte.gz to data/MNIST/raw\n",
            "Processing...\n",
            "Done!\n"
          ],
          "name": "stdout"
        },
        {
          "output_type": "stream",
          "text": [
            "/pytorch/torch/csrc/utils/tensor_numpy.cpp:141: UserWarning: The given NumPy array is not writeable, and PyTorch does not support non-writeable tensors. This means you can write to the underlying (supposedly non-writeable) NumPy array using the tensor. You may want to copy the array to protect its data or make it writeable before converting it to a tensor. This type of warning will be suppressed for the rest of this program.\n"
          ],
          "name": "stderr"
        }
      ]
    },
    {
      "cell_type": "markdown",
      "metadata": {
        "id": "eTTD1iYpBUpG",
        "colab_type": "text"
      },
      "source": [
        "### Neural Network Definition"
      ]
    },
    {
      "cell_type": "code",
      "metadata": {
        "id": "lLyznWxGBHfM",
        "colab_type": "code",
        "colab": {}
      },
      "source": [
        "class Encoder(torch.nn.Module):\n",
        "  \"\"\"\n",
        "  Encoder for the variational Encoder\n",
        "  \"\"\"\n",
        "  def __init__(self, in_channels=1, hidden_dims=16):\n",
        "    super().__init__()\n",
        "    self.conv1 = torch.nn.Conv2d(in_channels=in_channels, out_channels=16,\n",
        "                                 kernel_size=3, stride=2, padding=1)\n",
        "    self.conv2 = torch.nn.Conv2d(in_channels=16, out_channels=32, \n",
        "                                 kernel_size=3, stride=2, padding=1)\n",
        "    self.fc_mu = torch.nn.Linear(in_features=32*7*7, out_features=hidden_dims)\n",
        "    self.fc_logvar = torch.nn.Linear(in_features=32*7*7,\n",
        "                                     out_features=hidden_dims)\n",
        "    \n",
        "  def forward(self, x):\n",
        "    x = torch.nn.ReLU()(self.conv1(x))\n",
        "    x = torch.nn.ReLU()(self.conv2(x))\n",
        "    x = x.view(x.shape[0], -1)\n",
        "    x_mu = self.fc_mu(x)\n",
        "    x_logvar = self.fc_logvar(x)\n",
        "\n",
        "    return x_mu, x_logvar"
      ],
      "execution_count": null,
      "outputs": []
    },
    {
      "cell_type": "code",
      "metadata": {
        "id": "PGdqbFcBB3yX",
        "colab_type": "code",
        "colab": {}
      },
      "source": [
        "class Decoder(torch.nn.Module):\n",
        "  \"\"\"\n",
        "  Decoder for variational Auto-Encoder\n",
        "  \"\"\"\n",
        "  def __init__(self, in_channels=1, hidden_dims=16):\n",
        "    super().__init__()\n",
        "    self.fc = torch.nn.Linear(in_features=hidden_dims, out_features=32*7*7)\n",
        "    self.conv1 = torch.nn.ConvTranspose2d(in_channels=32, out_channels=16,\n",
        "                                          kernel_size=3, stride=2,\n",
        "                                          padding=1, output_padding=1)\n",
        "    self.conv2 = torch.nn.ConvTranspose2d(in_channels=16, \n",
        "                                          out_channels=in_channels,\n",
        "                                          kernel_size=3, stride=2, \n",
        "                                          padding=1, output_padding=1)\n",
        "    \n",
        "  def forward(self, x):\n",
        "    x = self.fc(x)\n",
        "    x = x.view(x.shape[0], 32, 7,7)\n",
        "    x = torch.nn.ReLU()(self.conv1(x))\n",
        "    x = self.conv2(x)\n",
        "\n",
        "    return x"
      ],
      "execution_count": null,
      "outputs": []
    },
    {
      "cell_type": "code",
      "metadata": {
        "id": "5cP4ghvbOBJS",
        "colab_type": "code",
        "colab": {}
      },
      "source": [
        "class VariationalAutoEncoder(torch.nn.Module):\n",
        "  def __init__(self, in_channels=1, hidden_dims=16):\n",
        "    super().__init__()\n",
        "    self.encoder = Encoder(in_channels=in_channels, hidden_dims=hidden_dims)\n",
        "    self.decoder= Decoder(in_channels=in_channels, hidden_dims=hidden_dims)\n",
        "\n",
        "  def forward(self, x):\n",
        "    x_mu, x_logvar = self.encoder(x)\n",
        "    z = self.latent_sample(x_mu, x_logvar)\n",
        "    x = self.decoder(z)\n",
        "    \n",
        "    return x, x_mu, x_logvar\n",
        "\n",
        "  def latent_sample(self, x_mu, x_logvar):\n",
        "    if self.training:\n",
        "      # Reparameterization Trick\n",
        "      std = x_logvar.mul(0.5).exp()\n",
        "      eps = torch.empty_like(std).normal_()\n",
        "    \n",
        "      return eps.mul(std).add(x_mu)\n",
        "\n",
        "    else:\n",
        "      return x_mu\n"
      ],
      "execution_count": null,
      "outputs": []
    },
    {
      "cell_type": "markdown",
      "metadata": {
        "id": "mJbDdMoUU_EG",
        "colab_type": "text"
      },
      "source": [
        "#### Loss definition"
      ]
    },
    {
      "cell_type": "code",
      "metadata": {
        "id": "ZaPOfU4YUj8J",
        "colab_type": "code",
        "colab": {}
      },
      "source": [
        "def vae_loss(y_true, y_pred, mu, logvar):\n",
        "  mse_loss = torch.nn.MSELoss(reduction='sum')\n",
        "  reconstruction_loss = mse_loss(y_true.view(-1, im_w*im_h), y_pred.view(-1, im_w*im_h))\n",
        "  kld_loss = -0.5 * torch.sum(1 + logvar - mu.pow(2) - logvar.exp())\n",
        "\n",
        "  return reconstruction_loss + beta * kld_loss"
      ],
      "execution_count": null,
      "outputs": []
    },
    {
      "cell_type": "markdown",
      "metadata": {
        "id": "85_2i2CdY7t5",
        "colab_type": "text"
      },
      "source": [
        "### Training"
      ]
    },
    {
      "cell_type": "code",
      "metadata": {
        "id": "IxkVxQXXXWDS",
        "colab_type": "code",
        "colab": {
          "base_uri": "https://localhost:8080/",
          "height": 243
        },
        "outputId": "4e2b598d-0a08-4311-cbc1-c3d54754ed2f"
      },
      "source": [
        "vae = VariationalAutoEncoder(hidden_dims=latent_dim)\n",
        "vae.to(device)"
      ],
      "execution_count": null,
      "outputs": [
        {
          "output_type": "execute_result",
          "data": {
            "text/plain": [
              "VariationalAutoEncoder(\n",
              "  (encoder): Encoder(\n",
              "    (conv1): Conv2d(1, 16, kernel_size=(3, 3), stride=(2, 2), padding=(1, 1))\n",
              "    (conv2): Conv2d(16, 32, kernel_size=(3, 3), stride=(2, 2), padding=(1, 1))\n",
              "    (fc_mu): Linear(in_features=1568, out_features=16, bias=True)\n",
              "    (fc_logvar): Linear(in_features=1568, out_features=16, bias=True)\n",
              "  )\n",
              "  (decoder): Decoder(\n",
              "    (fc): Linear(in_features=16, out_features=1568, bias=True)\n",
              "    (conv1): ConvTranspose2d(32, 16, kernel_size=(3, 3), stride=(2, 2), padding=(1, 1), output_padding=(1, 1))\n",
              "    (conv2): ConvTranspose2d(16, 1, kernel_size=(3, 3), stride=(2, 2), padding=(1, 1), output_padding=(1, 1))\n",
              "  )\n",
              ")"
            ]
          },
          "metadata": {
            "tags": []
          },
          "execution_count": 14
        }
      ]
    },
    {
      "cell_type": "code",
      "metadata": {
        "id": "CWsdSuwdZDXC",
        "colab_type": "code",
        "colab": {}
      },
      "source": [
        "optimizer = torch.optim.Adam(params=vae.parameters(), lr=0.001, weight_decay=1e-5)"
      ],
      "execution_count": null,
      "outputs": []
    },
    {
      "cell_type": "code",
      "metadata": {
        "id": "SizgI_2q2MB2",
        "colab_type": "code",
        "colab": {
          "base_uri": "https://localhost:8080/",
          "height": 191
        },
        "outputId": "1b594ab8-2554-4bc8-ffc6-d55f15c02d11"
      },
      "source": [
        "# Set VAE to train mode\n",
        "vae.train()\n",
        "# Keep records of loss for each epoch\n",
        "loss_list = []\n",
        "# Number of batches\n",
        "num_batches = len(train_loader)\n",
        "\n",
        "\n",
        "for epoch in range(num_epoch):\n",
        "  loss_list.append(0)\n",
        "\n",
        "  with tqdm.tqdm(total=num_batches) as pbar:  \n",
        "    for i, (image_batch, _) in enumerate(train_loader):\n",
        "      # Move image_batch to GPU if available\n",
        "      image_batch = image_batch.to(device)\n",
        "      # Get Output of VAE\n",
        "      reconstructed_image_batch, mu, logvar = vae(image_batch)\n",
        "      # Get Loss of VAE\n",
        "      loss = vae_loss(reconstructed_image_batch, image_batch, mu, logvar)\n",
        "      # Set gradients to zero\n",
        "      optimizer.zero_grad()\n",
        "      # Perform backpropagation\n",
        "      loss.backward()\n",
        "      # Update Weights\n",
        "      optimizer.step()\n",
        "      # Add loss of current batch to total loss\n",
        "      loss_list[-1] += loss.item()\n",
        "      # Update the loading bar\n",
        "      pbar.update(1)\n",
        "      pbar.set_description(f\"Epoch: [{epoch+1}/{num_epoch}],\\t Loss: {loss_list[-1]/(i+1)}\\t\")\n",
        "    # Average of the loss over all the batches\n",
        "    loss_list[-1] /= num_batches\n"
      ],
      "execution_count": null,
      "outputs": [
        {
          "output_type": "stream",
          "text": [
            "Epoch: [1/10],\t Loss: 2635.368756454891\t: 100%|██████████| 938/938 [00:33<00:00, 28.31it/s]\n",
            "Epoch: [2/10],\t Loss: 2215.8567445018907\t: 100%|██████████| 938/938 [00:32<00:00, 28.71it/s]\n",
            "Epoch: [3/10],\t Loss: 2150.397093620382\t: 100%|██████████| 938/938 [00:32<00:00, 28.87it/s]\n",
            "Epoch: [4/10],\t Loss: 2117.719338488223\t: 100%|██████████| 938/938 [00:32<00:00, 28.65it/s]\n",
            "Epoch: [5/10],\t Loss: 2096.0590177426207\t: 100%|██████████| 938/938 [00:32<00:00, 28.85it/s]\n",
            "Epoch: [6/10],\t Loss: 2081.190071805454\t: 100%|██████████| 938/938 [00:32<00:00, 28.71it/s]\n",
            "Epoch: [7/10],\t Loss: 2068.9492056059685\t: 100%|██████████| 938/938 [00:32<00:00, 28.69it/s]\n",
            "Epoch: [8/10],\t Loss: 2060.31820789329\t: 100%|██████████| 938/938 [00:32<00:00, 28.69it/s]\n",
            "Epoch: [9/10],\t Loss: 2050.297236786214\t: 100%|██████████| 938/938 [00:32<00:00, 28.79it/s]\n",
            "Epoch: [10/10],\t Loss: 2043.9056650255282\t: 100%|██████████| 938/938 [00:32<00:00, 28.75it/s]\n"
          ],
          "name": "stderr"
        }
      ]
    },
    {
      "cell_type": "code",
      "metadata": {
        "id": "90kRJFIdHL1H",
        "colab_type": "code",
        "colab": {}
      },
      "source": [
        "# Save Model Weights\n",
        "torch.save(vae.state_dict(), '/content/drive/My Drive/DeepLearning/PytorchVAE/vae_10.pt')"
      ],
      "execution_count": null,
      "outputs": []
    },
    {
      "cell_type": "code",
      "metadata": {
        "id": "rzwugP9GWfyZ",
        "colab_type": "code",
        "colab": {
          "base_uri": "https://localhost:8080/",
          "height": 265
        },
        "outputId": "f29434da-50c0-44e6-a606-0e317d0b289c"
      },
      "source": [
        "# Visualize loss plot\n",
        "plt.plot(loss_list)\n",
        "plt.show()"
      ],
      "execution_count": null,
      "outputs": [
        {
          "output_type": "display_data",
          "data": {
            "image/png": "[encoded data removed]",
            "text/plain": [
              "<Figure size 432x288 with 1 Axes>"
            ]
          },
          "metadata": {
            "tags": [],
            "needs_background": "light"
          }
        }
      ]
    },
    {
      "cell_type": "markdown",
      "metadata": {
        "id": "uVosyzfsJh06",
        "colab_type": "text"
      },
      "source": [
        "### Inference"
      ]
    },
    {
      "cell_type": "code",
      "metadata": {
        "id": "7Lbux2imJk-c",
        "colab_type": "code",
        "colab": {
          "base_uri": "https://localhost:8080/",
          "height": 34
        },
        "outputId": "417471d5-315b-49b7-ff0c-e2f388d1af7f"
      },
      "source": [
        "vae.load_state_dict(\n",
        "    torch.load('/content/drive/My Drive/DeepLearning/PytorchVAE/vae_10.pt')\n",
        "    )"
      ],
      "execution_count": null,
      "outputs": [
        {
          "output_type": "execute_result",
          "data": {
            "text/plain": [
              "<All keys matched successfully>"
            ]
          },
          "metadata": {
            "tags": []
          },
          "execution_count": 22
        }
      ]
    },
    {
      "cell_type": "code",
      "metadata": {
        "id": "uGRmocEMNdEs",
        "colab_type": "code",
        "colab": {}
      },
      "source": [
        "vae.eval()\n",
        "with torch.no_grad():\n",
        "  image_tensor = vae(next(iter(test_loader))[0].to(device))\n",
        "img = tensor_to_image(image_tensor)"
      ],
      "execution_count": null,
      "outputs": []
    },
    {
      "cell_type": "code",
      "metadata": {
        "id": "d4qD4ZmucUSk",
        "colab_type": "code",
        "colab": {
          "base_uri": "https://localhost:8080/",
          "height": 708
        },
        "outputId": "457cfbfb-7c35-4f5f-ad46-6f1a356db771"
      },
      "source": [
        "show_image_batch(img[:-1])"
      ],
      "execution_count": null,
      "outputs": [
        {
          "output_type": "display_data",
          "data": {
            "image/png": "[encoded data removed]",
            "text/plain": [
              "<Figure size 864x864 with 8 Axes>"
            ]
          },
          "metadata": {
            "tags": [],
            "needs_background": "light"
          }
        },
        {
          "output_type": "display_data",
          "data": {
            "image/png": "[encoded data removed]",
            "text/plain": [
              "<Figure size 864x864 with 8 Axes>"
            ]
          },
          "metadata": {
            "tags": [],
            "needs_background": "light"
          }
        },
        {
          "output_type": "display_data",
          "data": {
            "image/png": "[encoded data removed]",
            "text/plain": [
              "<Figure size 864x864 with 8 Axes>"
            ]
          },
          "metadata": {
            "tags": [],
            "needs_background": "light"
          }
        },
        {
          "output_type": "display_data",
          "data": {
            "image/png": "[encoded data removed]",
            "text/plain": [
              "<Figure size 864x864 with 8 Axes>"
            ]
          },
          "metadata": {
            "tags": [],
            "needs_background": "light"
          }
        },
        {
          "output_type": "display_data",
          "data": {
            "image/png": "[encoded data removed]",
            "text/plain": [
              "<Figure size 864x864 with 8 Axes>"
            ]
          },
          "metadata": {
            "tags": [],
            "needs_background": "light"
          }
        },
        {
          "output_type": "display_data",
          "data": {
            "image/png": "[encoded data removed]",
            "text/plain": [
              "<Figure size 864x864 with 8 Axes>"
            ]
          },
          "metadata": {
            "tags": [],
            "needs_background": "light"
          }
        },
        {
          "output_type": "display_data",
          "data": {
            "image/png": "[encoded data removed]",
            "text/plain": [
              "<Figure size 864x864 with 8 Axes>"
            ]
          },
          "metadata": {
            "tags": [],
            "needs_background": "light"
          }
        },
        {
          "output_type": "display_data",
          "data": {
            "image/png": "[encoded data removed]",
            "text/plain": [
              "<Figure size 864x864 with 7 Axes>"
            ]
          },
          "metadata": {
            "tags": [],
            "needs_background": "light"
          }
        }
      ]
    },
    {
      "cell_type": "code",
      "metadata": {
        "id": "CrDf0v56h5Mu",
        "colab_type": "code",
        "colab": {}
      },
      "source": [
        ""
      ],
      "execution_count": null,
      "outputs": []
    }
  ]
}